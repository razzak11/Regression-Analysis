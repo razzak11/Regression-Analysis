{
 "cells": [
  {
   "cell_type": "code",
   "execution_count": 1,
   "metadata": {},
   "outputs": [],
   "source": [
    "import numpy as np\n",
    "import pandas as pd"
   ]
  },
  {
   "cell_type": "code",
   "execution_count": 2,
   "metadata": {},
   "outputs": [],
   "source": [
    "import seaborn as sns\n",
    "import matplotlib.pyplot as plt\n",
    "\n",
    "pd.options.display.float_format = '{:.3f}'.format\n"
   ]
  },
  {
   "cell_type": "code",
   "execution_count": 3,
   "metadata": {},
   "outputs": [],
   "source": [
    "df=pd.read_excel('cust_360_final.xlsx')"
   ]
  },
  {
   "cell_type": "code",
   "execution_count": 4,
   "metadata": {},
   "outputs": [
    {
     "data": {
      "text/html": [
       "<div>\n",
       "<style scoped>\n",
       "    .dataframe tbody tr th:only-of-type {\n",
       "        vertical-align: middle;\n",
       "    }\n",
       "\n",
       "    .dataframe tbody tr th {\n",
       "        vertical-align: top;\n",
       "    }\n",
       "\n",
       "    .dataframe thead th {\n",
       "        text-align: right;\n",
       "    }\n",
       "</style>\n",
       "<table border=\"1\" class=\"dataframe\">\n",
       "  <thead>\n",
       "    <tr style=\"text-align: right;\">\n",
       "      <th></th>\n",
       "      <th>USER_ID</th>\n",
       "      <th>Gender</th>\n",
       "      <th>first_Date</th>\n",
       "      <th>recent_date</th>\n",
       "      <th>Customer_value</th>\n",
       "      <th>buy_times</th>\n",
       "      <th>Points_earned</th>\n",
       "      <th>Points_redeemed</th>\n",
       "      <th>no_baskets</th>\n",
       "      <th>qty</th>\n",
       "      <th>...</th>\n",
       "      <th>pct_pur_w_promo_prds</th>\n",
       "      <th>buyer_flag</th>\n",
       "      <th>multi_cat_flag</th>\n",
       "      <th>redeem_flag</th>\n",
       "      <th>Promo_seeker_flag</th>\n",
       "      <th>Decile_Sale_amt</th>\n",
       "      <th>Decile_Margin</th>\n",
       "      <th>CustomerSegment</th>\n",
       "      <th>High_Spender_flag</th>\n",
       "      <th>Churn_flag</th>\n",
       "    </tr>\n",
       "  </thead>\n",
       "  <tbody>\n",
       "    <tr>\n",
       "      <th>0</th>\n",
       "      <td>347</td>\n",
       "      <td>F</td>\n",
       "      <td>20120130</td>\n",
       "      <td>20130328</td>\n",
       "      <td>444.000</td>\n",
       "      <td>4</td>\n",
       "      <td>457</td>\n",
       "      <td>NaN</td>\n",
       "      <td>3</td>\n",
       "      <td>35</td>\n",
       "      <td>...</td>\n",
       "      <td>NaN</td>\n",
       "      <td>Repeat Buyer</td>\n",
       "      <td>0</td>\n",
       "      <td>0</td>\n",
       "      <td>1</td>\n",
       "      <td>0</td>\n",
       "      <td>6</td>\n",
       "      <td>UpwardMigrator</td>\n",
       "      <td>0</td>\n",
       "      <td>0</td>\n",
       "    </tr>\n",
       "    <tr>\n",
       "      <th>1</th>\n",
       "      <td>885</td>\n",
       "      <td>M</td>\n",
       "      <td>20120412</td>\n",
       "      <td>20121206</td>\n",
       "      <td>2284.580</td>\n",
       "      <td>7</td>\n",
       "      <td>1715</td>\n",
       "      <td>15400.000</td>\n",
       "      <td>4</td>\n",
       "      <td>247</td>\n",
       "      <td>...</td>\n",
       "      <td>1.000</td>\n",
       "      <td>Repeat Buyer</td>\n",
       "      <td>1</td>\n",
       "      <td>1</td>\n",
       "      <td>1</td>\n",
       "      <td>7</td>\n",
       "      <td>8</td>\n",
       "      <td>DownWardMigrator</td>\n",
       "      <td>0</td>\n",
       "      <td>0</td>\n",
       "    </tr>\n",
       "    <tr>\n",
       "      <th>2</th>\n",
       "      <td>1670</td>\n",
       "      <td>M</td>\n",
       "      <td>20120708</td>\n",
       "      <td>20130328</td>\n",
       "      <td>8092.170</td>\n",
       "      <td>29</td>\n",
       "      <td>3030</td>\n",
       "      <td>29455.000</td>\n",
       "      <td>28</td>\n",
       "      <td>553</td>\n",
       "      <td>...</td>\n",
       "      <td>0.860</td>\n",
       "      <td>Repeat Buyer</td>\n",
       "      <td>1</td>\n",
       "      <td>1</td>\n",
       "      <td>1</td>\n",
       "      <td>9</td>\n",
       "      <td>9</td>\n",
       "      <td>UpwardMigrator</td>\n",
       "      <td>1</td>\n",
       "      <td>0</td>\n",
       "    </tr>\n",
       "    <tr>\n",
       "      <th>3</th>\n",
       "      <td>4468</td>\n",
       "      <td>M</td>\n",
       "      <td>20120119</td>\n",
       "      <td>20130308</td>\n",
       "      <td>2428.630</td>\n",
       "      <td>11</td>\n",
       "      <td>743</td>\n",
       "      <td>900.000</td>\n",
       "      <td>7</td>\n",
       "      <td>63</td>\n",
       "      <td>...</td>\n",
       "      <td>0.570</td>\n",
       "      <td>Repeat Buyer</td>\n",
       "      <td>1</td>\n",
       "      <td>1</td>\n",
       "      <td>0</td>\n",
       "      <td>6</td>\n",
       "      <td>1</td>\n",
       "      <td>DownWardMigrator</td>\n",
       "      <td>0</td>\n",
       "      <td>0</td>\n",
       "    </tr>\n",
       "    <tr>\n",
       "      <th>4</th>\n",
       "      <td>4682</td>\n",
       "      <td>F</td>\n",
       "      <td>20120213</td>\n",
       "      <td>20121221</td>\n",
       "      <td>2037.020</td>\n",
       "      <td>10</td>\n",
       "      <td>1100</td>\n",
       "      <td>NaN</td>\n",
       "      <td>4</td>\n",
       "      <td>307</td>\n",
       "      <td>...</td>\n",
       "      <td>0.750</td>\n",
       "      <td>Repeat Buyer</td>\n",
       "      <td>1</td>\n",
       "      <td>0</td>\n",
       "      <td>0</td>\n",
       "      <td>4</td>\n",
       "      <td>7</td>\n",
       "      <td>DownWardMigrator</td>\n",
       "      <td>0</td>\n",
       "      <td>0</td>\n",
       "    </tr>\n",
       "  </tbody>\n",
       "</table>\n",
       "<p>5 rows × 118 columns</p>\n",
       "</div>"
      ],
      "text/plain": [
       "   USER_ID Gender  first_Date  recent_date  Customer_value  buy_times  \\\n",
       "0      347      F    20120130     20130328         444.000          4   \n",
       "1      885      M    20120412     20121206        2284.580          7   \n",
       "2     1670      M    20120708     20130328        8092.170         29   \n",
       "3     4468      M    20120119     20130308        2428.630         11   \n",
       "4     4682      F    20120213     20121221        2037.020         10   \n",
       "\n",
       "   Points_earned  Points_redeemed  no_baskets  qty  ...  pct_pur_w_promo_prds  \\\n",
       "0            457              NaN           3   35  ...                   NaN   \n",
       "1           1715        15400.000           4  247  ...                 1.000   \n",
       "2           3030        29455.000          28  553  ...                 0.860   \n",
       "3            743          900.000           7   63  ...                 0.570   \n",
       "4           1100              NaN           4  307  ...                 0.750   \n",
       "\n",
       "     buyer_flag  multi_cat_flag  redeem_flag  Promo_seeker_flag  \\\n",
       "0  Repeat Buyer               0            0                  1   \n",
       "1  Repeat Buyer               1            1                  1   \n",
       "2  Repeat Buyer               1            1                  1   \n",
       "3  Repeat Buyer               1            1                  0   \n",
       "4  Repeat Buyer               1            0                  0   \n",
       "\n",
       "   Decile_Sale_amt  Decile_Margin   CustomerSegment  High_Spender_flag  \\\n",
       "0                0              6    UpwardMigrator                  0   \n",
       "1                7              8  DownWardMigrator                  0   \n",
       "2                9              9    UpwardMigrator                  1   \n",
       "3                6              1  DownWardMigrator                  0   \n",
       "4                4              7  DownWardMigrator                  0   \n",
       "\n",
       "   Churn_flag  \n",
       "0           0  \n",
       "1           0  \n",
       "2           0  \n",
       "3           0  \n",
       "4           0  \n",
       "\n",
       "[5 rows x 118 columns]"
      ]
     },
     "execution_count": 4,
     "metadata": {},
     "output_type": "execute_result"
    }
   ],
   "source": [
    "df.head()"
   ]
  },
  {
   "cell_type": "markdown",
   "metadata": {},
   "source": [
    "## Feature Engineering"
   ]
  },
  {
   "cell_type": "markdown",
   "metadata": {},
   "source": [
    "\n",
    "- First the features are selected based on common knowledge.\n",
    "- Also utilized correlation test between categorical variables and target as a part of the feature selection. "
   ]
  },
  {
   "cell_type": "code",
   "execution_count": 5,
   "metadata": {},
   "outputs": [
    {
     "data": {
      "text/plain": [
       "array(['cat_prod_cnt_Beauty', 'cat_prod_cnt_Drinks', 'cat_prod_cnt_Food',\n",
       "       'cat_prod_cnt_HH_Electrical', 'cat_prod_cnt_Home',\n",
       "       'cat_prod_cnt_Kitchen_Clean', 'cat_prod_cnt_Mobiles',\n",
       "       'cat_prod_cnt_Mother_Child'], dtype=object)"
      ]
     },
     "execution_count": 5,
     "metadata": {},
     "output_type": "execute_result"
    }
   ],
   "source": [
    "imp_cat_features_condition=(df.loc[:,df.columns.str.contains('cat_prod',case=False)].corrwith(df['sale_amount'])>0.15).reset_index()\n",
    "imp_cat_features=imp_cat_features_condition[imp_cat_features_condition[0]==True]['index'].values\n",
    "imp_cat_features"
   ]
  },
  {
   "cell_type": "markdown",
   "metadata": {},
   "source": [
    "- same categories are considered for their penetration info per customer "
   ]
  },
  {
   "cell_type": "code",
   "execution_count": 6,
   "metadata": {},
   "outputs": [],
   "source": [
    "df_new=df[['USER_ID',\n",
    "           \n",
    "# Product level features           \n",
    "           'No_SKUs', 'No_Distinct_SKUs', \n",
    "# Category level features\n",
    "           'No_categories','No_Distinct_categories',\n",
    "# Total cost of all the products purchased            \n",
    "           'cost_amt','qty', \n",
    "# Basket related features       \n",
    "       'no_baskets','no_baskets_weekend', 'no_baskets_weekday', 'no_baskets_No_promo',\n",
    "       'no_baskets_Promo', 'no_Promo_prods',\n",
    "# Discount related features       \n",
    "       'discount','Products_with_discount','Products_without_discount',\n",
    "       \n",
    "# Category wise product orders related features       \n",
    "       'cat_prod_cnt_Beauty', 'cat_prod_cnt_Drinks', 'cat_prod_cnt_Food',\n",
    "       'cat_prod_cnt_HH_Electrical', 'cat_prod_cnt_Home',\n",
    "       'cat_prod_cnt_Kitchen_Clean', 'cat_prod_cnt_Mobiles',\n",
    "       'cat_prod_cnt_Mother_Child',\n",
    "# category penetration related features      \n",
    "       'cat_pen_Beauty','cat_pen_Drinks','cat_pen_Food', 'cat_pen_HH_Electrical', 'cat_pen_Home',\n",
    "       'cat_pen_Kitchen_Clean', 'cat_pen_Mobiles','cat_pen_Mother_Child',\n",
    "# Some key factors that can help explain variability in sales_amount\n",
    "       'Gender','buy_times','CustomerSegment',\n",
    "# Target variable       \n",
    "       'sale_amount'\n",
    "       ]]"
   ]
  },
  {
   "cell_type": "markdown",
   "metadata": {},
   "source": [
    "Now we will check all features correlation with target variables and further check if i should remove further."
   ]
  },
  {
   "cell_type": "markdown",
   "metadata": {},
   "source": [
    "- So out of 117 features i haveselected 36 features. The sole aim was to avoid redundant features as well as avoid multicollinearity as much as i can."
   ]
  },
  {
   "cell_type": "code",
   "execution_count": 9,
   "metadata": {},
   "outputs": [],
   "source": [
    "# Since this is a ordinal categorical variable therefore will perform spearmanr correlation test \n",
    "# for its importance in explaining variability in sales_amount\n",
    "C_S_corr=df_new[~df_new['CustomerSegment'].isnull()]"
   ]
  },
  {
   "cell_type": "code",
   "execution_count": 10,
   "metadata": {},
   "outputs": [
    {
     "name": "stdout",
     "output_type": "stream",
     "text": [
      "Spearman Rank Correlation Coefficient: 0.037063671252934305\n",
      "P-value: 0.001387256153566618\n"
     ]
    }
   ],
   "source": [
    "from scipy.stats import spearmanr,pointbiserialr\n",
    "\n",
    "spearman_corr, p_value = spearmanr(C_S_corr['CustomerSegment'], C_S_corr['sale_amount'])\n",
    "\n",
    "print(\"Spearman Rank Correlation Coefficient:\", spearman_corr)\n",
    "print(\"P-value:\", p_value)"
   ]
  },
  {
   "cell_type": "markdown",
   "metadata": {},
   "source": [
    "- So the rank correlation between customer segment (which is ordinal cat col) and target variable is statistically significant but the association between the two is very weak. Therefore i am dropping this column.\n",
    " \n",
    "\n",
    " Lets now decide the other two cat var which are nominal (binary)\n",
    "- For binary indep var and cont dep var Point-Biserial Correlation coefficient this test is generally prefered. "
   ]
  },
  {
   "cell_type": "code",
   "execution_count": 9,
   "metadata": {},
   "outputs": [
    {
     "data": {
      "text/plain": [
       "M          4092\n",
       "F          2030\n",
       "unknown    1318\n",
       "Name: Gender, dtype: int64"
      ]
     },
     "execution_count": 9,
     "metadata": {},
     "output_type": "execute_result"
    }
   ],
   "source": [
    "df_new.Gender.value_counts()"
   ]
  },
  {
   "cell_type": "code",
   "execution_count": null,
   "metadata": {},
   "outputs": [],
   "source": [
    "gender_corr=df_new[~(df_new.Gender=='unknown')]\n",
    "gender_corr['Gender']=gender_corr.Gender.apply(lambda x: 1 if x=='M' else 0)\n"
   ]
  },
  {
   "cell_type": "code",
   "execution_count": 13,
   "metadata": {},
   "outputs": [
    {
     "data": {
      "text/plain": [
       "Gender\n",
       "1    4092\n",
       "0    2030\n",
       "Name: count, dtype: int64"
      ]
     },
     "execution_count": 13,
     "metadata": {},
     "output_type": "execute_result"
    }
   ],
   "source": [
    "gender_corr.Gender.value_counts()"
   ]
  },
  {
   "cell_type": "code",
   "execution_count": 14,
   "metadata": {},
   "outputs": [
    {
     "name": "stdout",
     "output_type": "stream",
     "text": [
      "Point-Biserial Correlation Coefficient: -0.0026959751052857417\n",
      "P-value: 0.8329660402986964\n"
     ]
    }
   ],
   "source": [
    "point_biserial_corr, p_value = pointbiserialr(gender_corr['Gender'], gender_corr['sale_amount'])\n",
    "\n",
    "print(\"Point-Biserial Correlation Coefficient:\", point_biserial_corr)\n",
    "print(\"P-value:\", p_value)"
   ]
  },
  {
   "cell_type": "markdown",
   "metadata": {},
   "source": [
    "- So no meaningful correlation between the gender of the customer and total sales.\n",
    "\n",
    "So basically rejecting the gender as well as customer's segment info."
   ]
  },
  {
   "cell_type": "code",
   "execution_count": null,
   "metadata": {},
   "outputs": [],
   "source": [
    "df_new.drop(columns=['CustomerSegment','Gender'],inplace=True)"
   ]
  },
  {
   "cell_type": "code",
   "execution_count": null,
   "metadata": {},
   "outputs": [],
   "source": [
    "# Also dropping user_id as it carries no weight in predicting the target\n",
    "df_new.drop(columns='USER_ID',inplace=True)"
   ]
  },
  {
   "cell_type": "code",
   "execution_count": 19,
   "metadata": {},
   "outputs": [
    {
     "data": {
      "text/plain": [
       "(7440, 33)"
      ]
     },
     "execution_count": 19,
     "metadata": {},
     "output_type": "execute_result"
    }
   ],
   "source": [
    "df_new.shape"
   ]
  },
  {
   "cell_type": "markdown",
   "metadata": {},
   "source": [
    "## Conditions check for Regression Analysis"
   ]
  },
  {
   "cell_type": "markdown",
   "metadata": {},
   "source": [
    "### 1. Multicollinearity"
   ]
  },
  {
   "cell_type": "code",
   "execution_count": 23,
   "metadata": {},
   "outputs": [
    {
     "data": {
      "text/plain": [
       "No_SKUs                       0\n",
       "No_Distinct_SKUs              0\n",
       "No_categories                 0\n",
       "No_Distinct_categories        0\n",
       "cost_amt                      0\n",
       "qty                           0\n",
       "no_baskets                    0\n",
       "no_baskets_weekend            0\n",
       "no_baskets_weekday            0\n",
       "no_baskets_No_promo           0\n",
       "no_baskets_Promo              0\n",
       "no_Promo_prods                0\n",
       "discount                      0\n",
       "Products_with_discount        0\n",
       "Products_without_discount     0\n",
       "cat_prod_cnt_Beauty           0\n",
       "cat_prod_cnt_Drinks           0\n",
       "cat_prod_cnt_Food             0\n",
       "cat_prod_cnt_HH_Electrical    0\n",
       "cat_prod_cnt_Home             0\n",
       "cat_prod_cnt_Kitchen_Clean    0\n",
       "cat_prod_cnt_Mobiles          0\n",
       "cat_prod_cnt_Mother_Child     0\n",
       "cat_pen_Beauty                0\n",
       "cat_pen_Drinks                0\n",
       "cat_pen_Food                  0\n",
       "cat_pen_HH_Electrical         0\n",
       "cat_pen_Home                  0\n",
       "cat_pen_Kitchen_Clean         0\n",
       "cat_pen_Mobiles               0\n",
       "cat_pen_Mother_Child          0\n",
       "buy_times                     0\n",
       "sale_amount                   0\n",
       "dtype: int64"
      ]
     },
     "execution_count": 23,
     "metadata": {},
     "output_type": "execute_result"
    }
   ],
   "source": [
    "# Handling null \n",
    "df_new=df_new.fillna(0)\n",
    "df_new.isnull().sum()\n"
   ]
  },
  {
   "cell_type": "code",
   "execution_count": 31,
   "metadata": {},
   "outputs": [],
   "source": [
    "X=df_new.iloc[:,:-1]\n",
    "y=df_new.iloc[:,-1]"
   ]
  },
  {
   "cell_type": "code",
   "execution_count": 79,
   "metadata": {},
   "outputs": [],
   "source": [
    "import statsmodels as sm\n",
    "from statsmodels.stats.outliers_influence import variance_inflation_factor\n",
    "from patsy import dmatrices"
   ]
  },
  {
   "cell_type": "code",
   "execution_count": 80,
   "metadata": {},
   "outputs": [],
   "source": [
    "# gather features from best_feature_IV\n",
    "vif1 = pd.DataFrame()\n",
    "def cal_vif(f,v):\n",
    "    featuresn = df_new[f].columns\n",
    "    featuresn = '+'.join(featuresn)\n",
    "    featuresn = 'sale_amount~'+featuresn\n",
    "    y, X_ = dmatrices(featuresn, df_new, return_type='dataframe')\n",
    "    v = pd.DataFrame()\n",
    "    v['VIF Factor'] = [variance_inflation_factor(X_.values, i) for i in range(X_.shape[1])]\n",
    "    v['features'] = X_.columns\n",
    "    return v.sort_values('VIF Factor',ascending=False)"
   ]
  },
  {
   "cell_type": "code",
   "execution_count": 81,
   "metadata": {},
   "outputs": [
    {
     "name": "stderr",
     "output_type": "stream",
     "text": [
      "c:\\Python\\Python311\\Lib\\site-packages\\statsmodels\\stats\\outliers_influence.py:198: RuntimeWarning: divide by zero encountered in scalar divide\n",
      "  vif = 1. / (1. - r_squared_i)\n"
     ]
    },
    {
     "data": {
      "text/html": [
       "<div>\n",
       "<style scoped>\n",
       "    .dataframe tbody tr th:only-of-type {\n",
       "        vertical-align: middle;\n",
       "    }\n",
       "\n",
       "    .dataframe tbody tr th {\n",
       "        vertical-align: top;\n",
       "    }\n",
       "\n",
       "    .dataframe thead th {\n",
       "        text-align: right;\n",
       "    }\n",
       "</style>\n",
       "<table border=\"1\" class=\"dataframe\">\n",
       "  <thead>\n",
       "    <tr style=\"text-align: right;\">\n",
       "      <th></th>\n",
       "      <th>VIF Factor</th>\n",
       "      <th>features</th>\n",
       "    </tr>\n",
       "  </thead>\n",
       "  <tbody>\n",
       "    <tr>\n",
       "      <th>27</th>\n",
       "      <td>inf</td>\n",
       "      <td>no_baskets</td>\n",
       "    </tr>\n",
       "    <tr>\n",
       "      <th>31</th>\n",
       "      <td>inf</td>\n",
       "      <td>no_baskets_weekend</td>\n",
       "    </tr>\n",
       "    <tr>\n",
       "      <th>3</th>\n",
       "      <td>inf</td>\n",
       "      <td>No_SKUs</td>\n",
       "    </tr>\n",
       "    <tr>\n",
       "      <th>4</th>\n",
       "      <td>inf</td>\n",
       "      <td>No_categories</td>\n",
       "    </tr>\n",
       "    <tr>\n",
       "      <th>5</th>\n",
       "      <td>inf</td>\n",
       "      <td>Products_with_discount</td>\n",
       "    </tr>\n",
       "    <tr>\n",
       "      <th>6</th>\n",
       "      <td>inf</td>\n",
       "      <td>Products_without_discount</td>\n",
       "    </tr>\n",
       "    <tr>\n",
       "      <th>30</th>\n",
       "      <td>inf</td>\n",
       "      <td>no_baskets_weekday</td>\n",
       "    </tr>\n",
       "    <tr>\n",
       "      <th>28</th>\n",
       "      <td>622.182</td>\n",
       "      <td>no_baskets_No_promo</td>\n",
       "    </tr>\n",
       "    <tr>\n",
       "      <th>1</th>\n",
       "      <td>18.903</td>\n",
       "      <td>No_Distinct_SKUs</td>\n",
       "    </tr>\n",
       "    <tr>\n",
       "      <th>7</th>\n",
       "      <td>18.528</td>\n",
       "      <td>buy_times</td>\n",
       "    </tr>\n",
       "  </tbody>\n",
       "</table>\n",
       "</div>"
      ],
      "text/plain": [
       "    VIF Factor                   features\n",
       "27         inf                 no_baskets\n",
       "31         inf         no_baskets_weekend\n",
       "3          inf                    No_SKUs\n",
       "4          inf              No_categories\n",
       "5          inf     Products_with_discount\n",
       "6          inf  Products_without_discount\n",
       "30         inf         no_baskets_weekday\n",
       "28     622.182        no_baskets_No_promo\n",
       "1       18.903           No_Distinct_SKUs\n",
       "7       18.528                  buy_times"
      ]
     },
     "execution_count": 81,
     "metadata": {},
     "output_type": "execute_result"
    }
   ],
   "source": [
    "features=list(df_new.columns.difference(['sale_amount']))\n",
    "vif=cal_vif(features,vif1)\n",
    "vif.head(10)\n"
   ]
  },
  {
   "cell_type": "code",
   "execution_count": 82,
   "metadata": {},
   "outputs": [],
   "source": [
    "# Function for dropping variables\n",
    "\n",
    "def drop_var(x):\n",
    "    var = x.sort_values('VIF Factor',ascending=False)[-(x.features=='Intercept')].head(1).features.values[0]\n",
    "    return var"
   ]
  },
  {
   "cell_type": "markdown",
   "metadata": {},
   "source": [
    "#### Removing variables one by one till all variables' vif ~ 10 or vif <10"
   ]
  },
  {
   "cell_type": "code",
   "execution_count": 83,
   "metadata": {},
   "outputs": [
    {
     "name": "stderr",
     "output_type": "stream",
     "text": [
      "c:\\Python\\Python311\\Lib\\site-packages\\statsmodels\\stats\\outliers_influence.py:198: RuntimeWarning: divide by zero encountered in scalar divide\n",
      "  vif = 1. / (1. - r_squared_i)\n"
     ]
    },
    {
     "name": "stdout",
     "output_type": "stream",
     "text": [
      "Variable to be dropped: no_baskets \n",
      "\n"
     ]
    },
    {
     "name": "stderr",
     "output_type": "stream",
     "text": [
      "c:\\Python\\Python311\\Lib\\site-packages\\statsmodels\\stats\\outliers_influence.py:198: RuntimeWarning: divide by zero encountered in scalar divide\n",
      "  vif = 1. / (1. - r_squared_i)\n",
      "c:\\Python\\Python311\\Lib\\site-packages\\statsmodels\\stats\\outliers_influence.py:198: RuntimeWarning: divide by zero encountered in scalar divide\n",
      "  vif = 1. / (1. - r_squared_i)\n"
     ]
    },
    {
     "data": {
      "text/html": [
       "<div>\n",
       "<style scoped>\n",
       "    .dataframe tbody tr th:only-of-type {\n",
       "        vertical-align: middle;\n",
       "    }\n",
       "\n",
       "    .dataframe tbody tr th {\n",
       "        vertical-align: top;\n",
       "    }\n",
       "\n",
       "    .dataframe thead th {\n",
       "        text-align: right;\n",
       "    }\n",
       "</style>\n",
       "<table border=\"1\" class=\"dataframe\">\n",
       "  <thead>\n",
       "    <tr style=\"text-align: right;\">\n",
       "      <th></th>\n",
       "      <th>VIF Factor</th>\n",
       "      <th>features</th>\n",
       "    </tr>\n",
       "  </thead>\n",
       "  <tbody>\n",
       "    <tr>\n",
       "      <th>3</th>\n",
       "      <td>inf</td>\n",
       "      <td>No_SKUs</td>\n",
       "    </tr>\n",
       "    <tr>\n",
       "      <th>4</th>\n",
       "      <td>inf</td>\n",
       "      <td>No_categories</td>\n",
       "    </tr>\n",
       "    <tr>\n",
       "      <th>5</th>\n",
       "      <td>inf</td>\n",
       "      <td>Products_with_discount</td>\n",
       "    </tr>\n",
       "    <tr>\n",
       "      <th>6</th>\n",
       "      <td>inf</td>\n",
       "      <td>Products_without_discount</td>\n",
       "    </tr>\n",
       "    <tr>\n",
       "      <th>27</th>\n",
       "      <td>622.182</td>\n",
       "      <td>no_baskets_No_promo</td>\n",
       "    </tr>\n",
       "  </tbody>\n",
       "</table>\n",
       "</div>"
      ],
      "text/plain": [
       "    VIF Factor                   features\n",
       "3          inf                    No_SKUs\n",
       "4          inf              No_categories\n",
       "5          inf     Products_with_discount\n",
       "6          inf  Products_without_discount\n",
       "27     622.182        no_baskets_No_promo"
      ]
     },
     "execution_count": 83,
     "metadata": {},
     "output_type": "execute_result"
    }
   ],
   "source": [
    "# 1.\n",
    "print('Variable to be dropped:',drop_var(cal_vif(features,vif1)),'\\n')\n",
    "features.remove(drop_var(cal_vif(features,vif1)))\n",
    "vif = cal_vif(features,vif1)\n",
    "vif.head()\n"
   ]
  },
  {
   "cell_type": "code",
   "execution_count": 84,
   "metadata": {},
   "outputs": [
    {
     "name": "stderr",
     "output_type": "stream",
     "text": [
      "c:\\Python\\Python311\\Lib\\site-packages\\statsmodels\\stats\\outliers_influence.py:198: RuntimeWarning: divide by zero encountered in scalar divide\n",
      "  vif = 1. / (1. - r_squared_i)\n"
     ]
    },
    {
     "name": "stdout",
     "output_type": "stream",
     "text": [
      "Variable to be dropped: No_SKUs \n",
      "\n"
     ]
    },
    {
     "name": "stderr",
     "output_type": "stream",
     "text": [
      "c:\\Python\\Python311\\Lib\\site-packages\\statsmodels\\stats\\outliers_influence.py:198: RuntimeWarning: divide by zero encountered in scalar divide\n",
      "  vif = 1. / (1. - r_squared_i)\n",
      "c:\\Python\\Python311\\Lib\\site-packages\\statsmodels\\stats\\outliers_influence.py:198: RuntimeWarning: divide by zero encountered in scalar divide\n",
      "  vif = 1. / (1. - r_squared_i)\n"
     ]
    },
    {
     "data": {
      "text/html": [
       "<div>\n",
       "<style scoped>\n",
       "    .dataframe tbody tr th:only-of-type {\n",
       "        vertical-align: middle;\n",
       "    }\n",
       "\n",
       "    .dataframe tbody tr th {\n",
       "        vertical-align: top;\n",
       "    }\n",
       "\n",
       "    .dataframe thead th {\n",
       "        text-align: right;\n",
       "    }\n",
       "</style>\n",
       "<table border=\"1\" class=\"dataframe\">\n",
       "  <thead>\n",
       "    <tr style=\"text-align: right;\">\n",
       "      <th></th>\n",
       "      <th>VIF Factor</th>\n",
       "      <th>features</th>\n",
       "    </tr>\n",
       "  </thead>\n",
       "  <tbody>\n",
       "    <tr>\n",
       "      <th>3</th>\n",
       "      <td>inf</td>\n",
       "      <td>No_categories</td>\n",
       "    </tr>\n",
       "    <tr>\n",
       "      <th>4</th>\n",
       "      <td>inf</td>\n",
       "      <td>Products_with_discount</td>\n",
       "    </tr>\n",
       "    <tr>\n",
       "      <th>5</th>\n",
       "      <td>inf</td>\n",
       "      <td>Products_without_discount</td>\n",
       "    </tr>\n",
       "    <tr>\n",
       "      <th>26</th>\n",
       "      <td>622.182</td>\n",
       "      <td>no_baskets_No_promo</td>\n",
       "    </tr>\n",
       "    <tr>\n",
       "      <th>28</th>\n",
       "      <td>399.384</td>\n",
       "      <td>no_baskets_weekday</td>\n",
       "    </tr>\n",
       "  </tbody>\n",
       "</table>\n",
       "</div>"
      ],
      "text/plain": [
       "    VIF Factor                   features\n",
       "3          inf              No_categories\n",
       "4          inf     Products_with_discount\n",
       "5          inf  Products_without_discount\n",
       "26     622.182        no_baskets_No_promo\n",
       "28     399.384         no_baskets_weekday"
      ]
     },
     "execution_count": 84,
     "metadata": {},
     "output_type": "execute_result"
    }
   ],
   "source": [
    "# 2.\n",
    "\n",
    "print('Variable to be dropped:',drop_var(cal_vif(features,vif1)),'\\n')\n",
    "features.remove(drop_var(cal_vif(features,vif1)))\n",
    "vif = cal_vif(features,vif1)\n",
    "vif.head()"
   ]
  },
  {
   "cell_type": "code",
   "execution_count": 85,
   "metadata": {},
   "outputs": [
    {
     "name": "stderr",
     "output_type": "stream",
     "text": [
      "c:\\Python\\Python311\\Lib\\site-packages\\statsmodels\\stats\\outliers_influence.py:198: RuntimeWarning: divide by zero encountered in scalar divide\n",
      "  vif = 1. / (1. - r_squared_i)\n"
     ]
    },
    {
     "name": "stdout",
     "output_type": "stream",
     "text": [
      "Variable to be dropped: No_categories \n",
      "\n"
     ]
    },
    {
     "name": "stderr",
     "output_type": "stream",
     "text": [
      "c:\\Python\\Python311\\Lib\\site-packages\\statsmodels\\stats\\outliers_influence.py:198: RuntimeWarning: divide by zero encountered in scalar divide\n",
      "  vif = 1. / (1. - r_squared_i)\n"
     ]
    },
    {
     "data": {
      "text/html": [
       "<div>\n",
       "<style scoped>\n",
       "    .dataframe tbody tr th:only-of-type {\n",
       "        vertical-align: middle;\n",
       "    }\n",
       "\n",
       "    .dataframe tbody tr th {\n",
       "        vertical-align: top;\n",
       "    }\n",
       "\n",
       "    .dataframe thead th {\n",
       "        text-align: right;\n",
       "    }\n",
       "</style>\n",
       "<table border=\"1\" class=\"dataframe\">\n",
       "  <thead>\n",
       "    <tr style=\"text-align: right;\">\n",
       "      <th></th>\n",
       "      <th>VIF Factor</th>\n",
       "      <th>features</th>\n",
       "    </tr>\n",
       "  </thead>\n",
       "  <tbody>\n",
       "    <tr>\n",
       "      <th>25</th>\n",
       "      <td>622.182</td>\n",
       "      <td>no_baskets_No_promo</td>\n",
       "    </tr>\n",
       "    <tr>\n",
       "      <th>27</th>\n",
       "      <td>399.384</td>\n",
       "      <td>no_baskets_weekday</td>\n",
       "    </tr>\n",
       "    <tr>\n",
       "      <th>28</th>\n",
       "      <td>74.066</td>\n",
       "      <td>no_baskets_weekend</td>\n",
       "    </tr>\n",
       "    <tr>\n",
       "      <th>4</th>\n",
       "      <td>44.616</td>\n",
       "      <td>Products_without_discount</td>\n",
       "    </tr>\n",
       "    <tr>\n",
       "      <th>1</th>\n",
       "      <td>18.903</td>\n",
       "      <td>No_Distinct_SKUs</td>\n",
       "    </tr>\n",
       "  </tbody>\n",
       "</table>\n",
       "</div>"
      ],
      "text/plain": [
       "    VIF Factor                   features\n",
       "25     622.182        no_baskets_No_promo\n",
       "27     399.384         no_baskets_weekday\n",
       "28      74.066         no_baskets_weekend\n",
       "4       44.616  Products_without_discount\n",
       "1       18.903           No_Distinct_SKUs"
      ]
     },
     "execution_count": 85,
     "metadata": {},
     "output_type": "execute_result"
    }
   ],
   "source": [
    "# 3.\n",
    "\n",
    "print('Variable to be dropped:',drop_var(cal_vif(features,vif1)),'\\n')\n",
    "features.remove(drop_var(cal_vif(features,vif1)))\n",
    "vif = cal_vif(features,vif1)\n",
    "vif.head()"
   ]
  },
  {
   "cell_type": "code",
   "execution_count": 86,
   "metadata": {},
   "outputs": [
    {
     "name": "stdout",
     "output_type": "stream",
     "text": [
      "Variable to be dropped: no_baskets_No_promo\n"
     ]
    },
    {
     "data": {
      "text/html": [
       "<div>\n",
       "<style scoped>\n",
       "    .dataframe tbody tr th:only-of-type {\n",
       "        vertical-align: middle;\n",
       "    }\n",
       "\n",
       "    .dataframe tbody tr th {\n",
       "        vertical-align: top;\n",
       "    }\n",
       "\n",
       "    .dataframe thead th {\n",
       "        text-align: right;\n",
       "    }\n",
       "</style>\n",
       "<table border=\"1\" class=\"dataframe\">\n",
       "  <thead>\n",
       "    <tr style=\"text-align: right;\">\n",
       "      <th></th>\n",
       "      <th>VIF Factor</th>\n",
       "      <th>features</th>\n",
       "    </tr>\n",
       "  </thead>\n",
       "  <tbody>\n",
       "    <tr>\n",
       "      <th>4</th>\n",
       "      <td>44.002</td>\n",
       "      <td>Products_without_discount</td>\n",
       "    </tr>\n",
       "    <tr>\n",
       "      <th>1</th>\n",
       "      <td>18.771</td>\n",
       "      <td>No_Distinct_SKUs</td>\n",
       "    </tr>\n",
       "    <tr>\n",
       "      <th>5</th>\n",
       "      <td>18.295</td>\n",
       "      <td>buy_times</td>\n",
       "    </tr>\n",
       "    <tr>\n",
       "      <th>22</th>\n",
       "      <td>16.362</td>\n",
       "      <td>cost_amt</td>\n",
       "    </tr>\n",
       "    <tr>\n",
       "      <th>0</th>\n",
       "      <td>15.679</td>\n",
       "      <td>Intercept</td>\n",
       "    </tr>\n",
       "  </tbody>\n",
       "</table>\n",
       "</div>"
      ],
      "text/plain": [
       "    VIF Factor                   features\n",
       "4       44.002  Products_without_discount\n",
       "1       18.771           No_Distinct_SKUs\n",
       "5       18.295                  buy_times\n",
       "22      16.362                   cost_amt\n",
       "0       15.679                  Intercept"
      ]
     },
     "execution_count": 86,
     "metadata": {},
     "output_type": "execute_result"
    }
   ],
   "source": [
    "# 4.\n",
    "\n",
    "print('Variable to be dropped:',drop_var(cal_vif(features,vif1)))\n",
    "features.remove(drop_var(cal_vif(features,vif1)))\n",
    "vif = cal_vif(features,vif1)\n",
    "vif.head()"
   ]
  },
  {
   "cell_type": "code",
   "execution_count": 87,
   "metadata": {},
   "outputs": [
    {
     "name": "stdout",
     "output_type": "stream",
     "text": [
      "Variable to be dropped: Products_without_discount\n"
     ]
    },
    {
     "data": {
      "text/html": [
       "<div>\n",
       "<style scoped>\n",
       "    .dataframe tbody tr th:only-of-type {\n",
       "        vertical-align: middle;\n",
       "    }\n",
       "\n",
       "    .dataframe tbody tr th {\n",
       "        vertical-align: top;\n",
       "    }\n",
       "\n",
       "    .dataframe thead th {\n",
       "        text-align: right;\n",
       "    }\n",
       "</style>\n",
       "<table border=\"1\" class=\"dataframe\">\n",
       "  <thead>\n",
       "    <tr style=\"text-align: right;\">\n",
       "      <th></th>\n",
       "      <th>VIF Factor</th>\n",
       "      <th>features</th>\n",
       "    </tr>\n",
       "  </thead>\n",
       "  <tbody>\n",
       "    <tr>\n",
       "      <th>4</th>\n",
       "      <td>17.854</td>\n",
       "      <td>buy_times</td>\n",
       "    </tr>\n",
       "    <tr>\n",
       "      <th>21</th>\n",
       "      <td>16.354</td>\n",
       "      <td>cost_amt</td>\n",
       "    </tr>\n",
       "    <tr>\n",
       "      <th>0</th>\n",
       "      <td>15.534</td>\n",
       "      <td>Intercept</td>\n",
       "    </tr>\n",
       "    <tr>\n",
       "      <th>1</th>\n",
       "      <td>14.341</td>\n",
       "      <td>No_Distinct_SKUs</td>\n",
       "    </tr>\n",
       "    <tr>\n",
       "      <th>19</th>\n",
       "      <td>13.542</td>\n",
       "      <td>cat_prod_cnt_Mobiles</td>\n",
       "    </tr>\n",
       "  </tbody>\n",
       "</table>\n",
       "</div>"
      ],
      "text/plain": [
       "    VIF Factor              features\n",
       "4       17.854             buy_times\n",
       "21      16.354              cost_amt\n",
       "0       15.534             Intercept\n",
       "1       14.341      No_Distinct_SKUs\n",
       "19      13.542  cat_prod_cnt_Mobiles"
      ]
     },
     "execution_count": 87,
     "metadata": {},
     "output_type": "execute_result"
    }
   ],
   "source": [
    "# 5.\n",
    "\n",
    "print('Variable to be dropped:',drop_var(cal_vif(features,vif1)))\n",
    "features.remove(drop_var(cal_vif(features,vif1)))\n",
    "vif = cal_vif(features,vif1)\n",
    "vif.head()"
   ]
  },
  {
   "cell_type": "code",
   "execution_count": 88,
   "metadata": {},
   "outputs": [
    {
     "name": "stdout",
     "output_type": "stream",
     "text": [
      "Variable to be dropped: buy_times\n"
     ]
    },
    {
     "data": {
      "text/html": [
       "<div>\n",
       "<style scoped>\n",
       "    .dataframe tbody tr th:only-of-type {\n",
       "        vertical-align: middle;\n",
       "    }\n",
       "\n",
       "    .dataframe tbody tr th {\n",
       "        vertical-align: top;\n",
       "    }\n",
       "\n",
       "    .dataframe thead th {\n",
       "        text-align: right;\n",
       "    }\n",
       "</style>\n",
       "<table border=\"1\" class=\"dataframe\">\n",
       "  <thead>\n",
       "    <tr style=\"text-align: right;\">\n",
       "      <th></th>\n",
       "      <th>VIF Factor</th>\n",
       "      <th>features</th>\n",
       "    </tr>\n",
       "  </thead>\n",
       "  <tbody>\n",
       "    <tr>\n",
       "      <th>20</th>\n",
       "      <td>15.897</td>\n",
       "      <td>cost_amt</td>\n",
       "    </tr>\n",
       "    <tr>\n",
       "      <th>0</th>\n",
       "      <td>15.529</td>\n",
       "      <td>Intercept</td>\n",
       "    </tr>\n",
       "    <tr>\n",
       "      <th>18</th>\n",
       "      <td>13.514</td>\n",
       "      <td>cat_prod_cnt_Mobiles</td>\n",
       "    </tr>\n",
       "    <tr>\n",
       "      <th>1</th>\n",
       "      <td>12.847</td>\n",
       "      <td>No_Distinct_SKUs</td>\n",
       "    </tr>\n",
       "    <tr>\n",
       "      <th>23</th>\n",
       "      <td>10.255</td>\n",
       "      <td>no_baskets_Promo</td>\n",
       "    </tr>\n",
       "  </tbody>\n",
       "</table>\n",
       "</div>"
      ],
      "text/plain": [
       "    VIF Factor              features\n",
       "20      15.897              cost_amt\n",
       "0       15.529             Intercept\n",
       "18      13.514  cat_prod_cnt_Mobiles\n",
       "1       12.847      No_Distinct_SKUs\n",
       "23      10.255      no_baskets_Promo"
      ]
     },
     "execution_count": 88,
     "metadata": {},
     "output_type": "execute_result"
    }
   ],
   "source": [
    "# 6.\n",
    "\n",
    "print('Variable to be dropped:',drop_var(cal_vif(features,vif1)))\n",
    "features.remove(drop_var(cal_vif(features,vif1)))\n",
    "vif = cal_vif(features,vif1)\n",
    "vif.head()"
   ]
  },
  {
   "cell_type": "code",
   "execution_count": 89,
   "metadata": {},
   "outputs": [
    {
     "name": "stdout",
     "output_type": "stream",
     "text": [
      "Variable to be dropped: cost_amt\n"
     ]
    },
    {
     "data": {
      "text/html": [
       "<div>\n",
       "<style scoped>\n",
       "    .dataframe tbody tr th:only-of-type {\n",
       "        vertical-align: middle;\n",
       "    }\n",
       "\n",
       "    .dataframe tbody tr th {\n",
       "        vertical-align: top;\n",
       "    }\n",
       "\n",
       "    .dataframe thead th {\n",
       "        text-align: right;\n",
       "    }\n",
       "</style>\n",
       "<table border=\"1\" class=\"dataframe\">\n",
       "  <thead>\n",
       "    <tr style=\"text-align: right;\">\n",
       "      <th></th>\n",
       "      <th>VIF Factor</th>\n",
       "      <th>features</th>\n",
       "    </tr>\n",
       "  </thead>\n",
       "  <tbody>\n",
       "    <tr>\n",
       "      <th>0</th>\n",
       "      <td>15.492</td>\n",
       "      <td>Intercept</td>\n",
       "    </tr>\n",
       "    <tr>\n",
       "      <th>1</th>\n",
       "      <td>12.741</td>\n",
       "      <td>No_Distinct_SKUs</td>\n",
       "    </tr>\n",
       "    <tr>\n",
       "      <th>22</th>\n",
       "      <td>10.241</td>\n",
       "      <td>no_baskets_Promo</td>\n",
       "    </tr>\n",
       "    <tr>\n",
       "      <th>20</th>\n",
       "      <td>9.338</td>\n",
       "      <td>discount</td>\n",
       "    </tr>\n",
       "    <tr>\n",
       "      <th>19</th>\n",
       "      <td>8.487</td>\n",
       "      <td>cat_prod_cnt_Mother_Child</td>\n",
       "    </tr>\n",
       "  </tbody>\n",
       "</table>\n",
       "</div>"
      ],
      "text/plain": [
       "    VIF Factor                   features\n",
       "0       15.492                  Intercept\n",
       "1       12.741           No_Distinct_SKUs\n",
       "22      10.241           no_baskets_Promo\n",
       "20       9.338                   discount\n",
       "19       8.487  cat_prod_cnt_Mother_Child"
      ]
     },
     "execution_count": 89,
     "metadata": {},
     "output_type": "execute_result"
    }
   ],
   "source": [
    "# 7.\n",
    "\n",
    "print('Variable to be dropped:',drop_var(cal_vif(features,vif1)))\n",
    "features.remove(drop_var(cal_vif(features,vif1)))\n",
    "vif = cal_vif(features,vif1)\n",
    "vif.head()"
   ]
  },
  {
   "cell_type": "code",
   "execution_count": 90,
   "metadata": {},
   "outputs": [
    {
     "name": "stdout",
     "output_type": "stream",
     "text": [
      "Variable to be dropped: No_Distinct_SKUs\n"
     ]
    },
    {
     "data": {
      "text/html": [
       "<div>\n",
       "<style scoped>\n",
       "    .dataframe tbody tr th:only-of-type {\n",
       "        vertical-align: middle;\n",
       "    }\n",
       "\n",
       "    .dataframe tbody tr th {\n",
       "        vertical-align: top;\n",
       "    }\n",
       "\n",
       "    .dataframe thead th {\n",
       "        text-align: right;\n",
       "    }\n",
       "</style>\n",
       "<table border=\"1\" class=\"dataframe\">\n",
       "  <thead>\n",
       "    <tr style=\"text-align: right;\">\n",
       "      <th></th>\n",
       "      <th>VIF Factor</th>\n",
       "      <th>features</th>\n",
       "    </tr>\n",
       "  </thead>\n",
       "  <tbody>\n",
       "    <tr>\n",
       "      <th>0</th>\n",
       "      <td>15.055</td>\n",
       "      <td>Intercept</td>\n",
       "    </tr>\n",
       "    <tr>\n",
       "      <th>21</th>\n",
       "      <td>9.758</td>\n",
       "      <td>no_baskets_Promo</td>\n",
       "    </tr>\n",
       "    <tr>\n",
       "      <th>19</th>\n",
       "      <td>8.724</td>\n",
       "      <td>discount</td>\n",
       "    </tr>\n",
       "    <tr>\n",
       "      <th>18</th>\n",
       "      <td>8.084</td>\n",
       "      <td>cat_prod_cnt_Mother_Child</td>\n",
       "    </tr>\n",
       "    <tr>\n",
       "      <th>22</th>\n",
       "      <td>6.243</td>\n",
       "      <td>no_baskets_weekday</td>\n",
       "    </tr>\n",
       "  </tbody>\n",
       "</table>\n",
       "</div>"
      ],
      "text/plain": [
       "    VIF Factor                   features\n",
       "0       15.055                  Intercept\n",
       "21       9.758           no_baskets_Promo\n",
       "19       8.724                   discount\n",
       "18       8.084  cat_prod_cnt_Mother_Child\n",
       "22       6.243         no_baskets_weekday"
      ]
     },
     "execution_count": 90,
     "metadata": {},
     "output_type": "execute_result"
    }
   ],
   "source": [
    "# 8.\n",
    "\n",
    "print('Variable to be dropped:',drop_var(cal_vif(features,vif1)))\n",
    "features.remove(drop_var(cal_vif(features,vif1)))\n",
    "vif = cal_vif(features,vif1)\n",
    "vif.head()"
   ]
  },
  {
   "cell_type": "code",
   "execution_count": 91,
   "metadata": {},
   "outputs": [
    {
     "data": {
      "text/html": [
       "<div>\n",
       "<style scoped>\n",
       "    .dataframe tbody tr th:only-of-type {\n",
       "        vertical-align: middle;\n",
       "    }\n",
       "\n",
       "    .dataframe tbody tr th {\n",
       "        vertical-align: top;\n",
       "    }\n",
       "\n",
       "    .dataframe thead th {\n",
       "        text-align: right;\n",
       "    }\n",
       "</style>\n",
       "<table border=\"1\" class=\"dataframe\">\n",
       "  <thead>\n",
       "    <tr style=\"text-align: right;\">\n",
       "      <th></th>\n",
       "      <th>VIF Factor</th>\n",
       "      <th>features</th>\n",
       "    </tr>\n",
       "  </thead>\n",
       "  <tbody>\n",
       "    <tr>\n",
       "      <th>0</th>\n",
       "      <td>15.055</td>\n",
       "      <td>Intercept</td>\n",
       "    </tr>\n",
       "    <tr>\n",
       "      <th>21</th>\n",
       "      <td>9.758</td>\n",
       "      <td>no_baskets_Promo</td>\n",
       "    </tr>\n",
       "    <tr>\n",
       "      <th>19</th>\n",
       "      <td>8.724</td>\n",
       "      <td>discount</td>\n",
       "    </tr>\n",
       "    <tr>\n",
       "      <th>18</th>\n",
       "      <td>8.084</td>\n",
       "      <td>cat_prod_cnt_Mother_Child</td>\n",
       "    </tr>\n",
       "    <tr>\n",
       "      <th>22</th>\n",
       "      <td>6.243</td>\n",
       "      <td>no_baskets_weekday</td>\n",
       "    </tr>\n",
       "    <tr>\n",
       "      <th>20</th>\n",
       "      <td>4.817</td>\n",
       "      <td>no_Promo_prods</td>\n",
       "    </tr>\n",
       "    <tr>\n",
       "      <th>12</th>\n",
       "      <td>3.466</td>\n",
       "      <td>cat_prod_cnt_Drinks</td>\n",
       "    </tr>\n",
       "    <tr>\n",
       "      <th>13</th>\n",
       "      <td>3.441</td>\n",
       "      <td>cat_prod_cnt_Food</td>\n",
       "    </tr>\n",
       "    <tr>\n",
       "      <th>16</th>\n",
       "      <td>3.159</td>\n",
       "      <td>cat_prod_cnt_Kitchen_Clean</td>\n",
       "    </tr>\n",
       "    <tr>\n",
       "      <th>2</th>\n",
       "      <td>2.921</td>\n",
       "      <td>Products_with_discount</td>\n",
       "    </tr>\n",
       "    <tr>\n",
       "      <th>11</th>\n",
       "      <td>2.744</td>\n",
       "      <td>cat_prod_cnt_Beauty</td>\n",
       "    </tr>\n",
       "    <tr>\n",
       "      <th>1</th>\n",
       "      <td>2.339</td>\n",
       "      <td>No_Distinct_categories</td>\n",
       "    </tr>\n",
       "    <tr>\n",
       "      <th>24</th>\n",
       "      <td>2.307</td>\n",
       "      <td>qty</td>\n",
       "    </tr>\n",
       "    <tr>\n",
       "      <th>15</th>\n",
       "      <td>2.230</td>\n",
       "      <td>cat_prod_cnt_Home</td>\n",
       "    </tr>\n",
       "    <tr>\n",
       "      <th>14</th>\n",
       "      <td>2.172</td>\n",
       "      <td>cat_prod_cnt_HH_Electrical</td>\n",
       "    </tr>\n",
       "    <tr>\n",
       "      <th>23</th>\n",
       "      <td>2.021</td>\n",
       "      <td>no_baskets_weekend</td>\n",
       "    </tr>\n",
       "    <tr>\n",
       "      <th>8</th>\n",
       "      <td>1.858</td>\n",
       "      <td>cat_pen_Kitchen_Clean</td>\n",
       "    </tr>\n",
       "    <tr>\n",
       "      <th>6</th>\n",
       "      <td>1.825</td>\n",
       "      <td>cat_pen_HH_Electrical</td>\n",
       "    </tr>\n",
       "    <tr>\n",
       "      <th>4</th>\n",
       "      <td>1.737</td>\n",
       "      <td>cat_pen_Drinks</td>\n",
       "    </tr>\n",
       "    <tr>\n",
       "      <th>3</th>\n",
       "      <td>1.704</td>\n",
       "      <td>cat_pen_Beauty</td>\n",
       "    </tr>\n",
       "    <tr>\n",
       "      <th>5</th>\n",
       "      <td>1.697</td>\n",
       "      <td>cat_pen_Food</td>\n",
       "    </tr>\n",
       "    <tr>\n",
       "      <th>7</th>\n",
       "      <td>1.659</td>\n",
       "      <td>cat_pen_Home</td>\n",
       "    </tr>\n",
       "    <tr>\n",
       "      <th>10</th>\n",
       "      <td>1.599</td>\n",
       "      <td>cat_pen_Mother_Child</td>\n",
       "    </tr>\n",
       "    <tr>\n",
       "      <th>17</th>\n",
       "      <td>1.227</td>\n",
       "      <td>cat_prod_cnt_Mobiles</td>\n",
       "    </tr>\n",
       "    <tr>\n",
       "      <th>9</th>\n",
       "      <td>1.181</td>\n",
       "      <td>cat_pen_Mobiles</td>\n",
       "    </tr>\n",
       "  </tbody>\n",
       "</table>\n",
       "</div>"
      ],
      "text/plain": [
       "    VIF Factor                    features\n",
       "0       15.055                   Intercept\n",
       "21       9.758            no_baskets_Promo\n",
       "19       8.724                    discount\n",
       "18       8.084   cat_prod_cnt_Mother_Child\n",
       "22       6.243          no_baskets_weekday\n",
       "20       4.817              no_Promo_prods\n",
       "12       3.466         cat_prod_cnt_Drinks\n",
       "13       3.441           cat_prod_cnt_Food\n",
       "16       3.159  cat_prod_cnt_Kitchen_Clean\n",
       "2        2.921      Products_with_discount\n",
       "11       2.744         cat_prod_cnt_Beauty\n",
       "1        2.339      No_Distinct_categories\n",
       "24       2.307                         qty\n",
       "15       2.230           cat_prod_cnt_Home\n",
       "14       2.172  cat_prod_cnt_HH_Electrical\n",
       "23       2.021          no_baskets_weekend\n",
       "8        1.858       cat_pen_Kitchen_Clean\n",
       "6        1.825       cat_pen_HH_Electrical\n",
       "4        1.737              cat_pen_Drinks\n",
       "3        1.704              cat_pen_Beauty\n",
       "5        1.697                cat_pen_Food\n",
       "7        1.659                cat_pen_Home\n",
       "10       1.599        cat_pen_Mother_Child\n",
       "17       1.227        cat_prod_cnt_Mobiles\n",
       "9        1.181             cat_pen_Mobiles"
      ]
     },
     "execution_count": 91,
     "metadata": {},
     "output_type": "execute_result"
    }
   ],
   "source": [
    "vif"
   ]
  },
  {
   "cell_type": "markdown",
   "metadata": {},
   "source": [
    "All features now have vif <=10"
   ]
  },
  {
   "cell_type": "code",
   "execution_count": 92,
   "metadata": {},
   "outputs": [
    {
     "name": "stdout",
     "output_type": "stream",
     "text": [
      "No. of features: 24\n"
     ]
    },
    {
     "data": {
      "text/plain": [
       "array(['no_baskets_Promo', 'discount', 'cat_prod_cnt_Mother_Child',\n",
       "       'no_baskets_weekday', 'no_Promo_prods', 'cat_prod_cnt_Drinks',\n",
       "       'cat_prod_cnt_Food', 'cat_prod_cnt_Kitchen_Clean',\n",
       "       'Products_with_discount', 'cat_prod_cnt_Beauty',\n",
       "       'No_Distinct_categories', 'qty', 'cat_prod_cnt_Home',\n",
       "       'cat_prod_cnt_HH_Electrical', 'no_baskets_weekend',\n",
       "       'cat_pen_Kitchen_Clean', 'cat_pen_HH_Electrical', 'cat_pen_Drinks',\n",
       "       'cat_pen_Beauty', 'cat_pen_Food', 'cat_pen_Home',\n",
       "       'cat_pen_Mother_Child', 'cat_prod_cnt_Mobiles', 'cat_pen_Mobiles'],\n",
       "      dtype=object)"
      ]
     },
     "execution_count": 92,
     "metadata": {},
     "output_type": "execute_result"
    }
   ],
   "source": [
    "vif_features = vif[-(vif['features']=='Intercept')].features.values\n",
    "print('No. of features:',len(vif_features))\n",
    "vif_features"
   ]
  },
  {
   "cell_type": "markdown",
   "metadata": {},
   "source": [
    "### 2. Linear Relationship with target"
   ]
  },
  {
   "cell_type": "code",
   "execution_count": 93,
   "metadata": {},
   "outputs": [
    {
     "data": {
      "text/plain": [
       "(7440, 24)"
      ]
     },
     "execution_count": 93,
     "metadata": {},
     "output_type": "execute_result"
    }
   ],
   "source": [
    "X1=df_new[vif_features]\n",
    "X1.shape"
   ]
  },
  {
   "cell_type": "code",
   "execution_count": 94,
   "metadata": {},
   "outputs": [
    {
     "data": {
      "image/png": "[encoded data removed]",
      "text/plain": [
       "<Figure size 1200x1000 with 24 Axes>"
      ]
     },
     "metadata": {},
     "output_type": "display_data"
    }
   ],
   "source": [
    "fig, axes = plt.subplots(nrows=6,ncols=4,sharey=True,figsize=(12,10))\n",
    "for pos,ax in enumerate(axes.flat):\n",
    "    if pos < X1.shape[1]:  # Make sure we don't exceed the number of columns in X\n",
    "        sns.scatterplot(x=X1.iloc[:,pos],y=y,ax=ax)\n",
    "        ax.set_title(f\"{X1.iloc[:,pos].name}\")\n",
    "\n",
    "plt.tight_layout()\n",
    "plt.show()"
   ]
  },
  {
   "cell_type": "markdown",
   "metadata": {},
   "source": [
    "The independent variables are not linear with target variable. Since this is not a strict condition but the over all linearity should be there like the predicted and actual values of target should follow linear trend.\n",
    "\n",
    "We will verify this condition now:"
   ]
  },
  {
   "cell_type": "markdown",
   "metadata": {},
   "source": [
    "Model implementation to verify conditions of linear regression"
   ]
  },
  {
   "cell_type": "code",
   "execution_count": 95,
   "metadata": {},
   "outputs": [
    {
     "data": {
      "text/plain": [
       "count     7440.000\n",
       "mean      2285.261\n",
       "std       9100.055\n",
       "min         29.500\n",
       "25%        607.445\n",
       "50%       1190.860\n",
       "75%       2384.462\n",
       "max     616953.140\n",
       "Name: sale_amount, dtype: float64"
      ]
     },
     "execution_count": 95,
     "metadata": {},
     "output_type": "execute_result"
    }
   ],
   "source": [
    "y.describe() \n",
    "# '''Clearly there are outliers in sales'''"
   ]
  },
  {
   "cell_type": "code",
   "execution_count": 96,
   "metadata": {},
   "outputs": [],
   "source": [
    "# IQR based outlier treatment\n",
    "\n",
    "q1,q2,q3=y.quantile([0.25,0.5,0.75])\n",
    "\n",
    "Iqr=q3-q1\n",
    "max_uc= q3+Iqr*1.5\n",
    "min_uc= q2-Iqr*1.5\n",
    "\n",
    "# Clipping the X1 and y \n",
    "y1=y[(y<=max_uc) & (y>=min_uc)]\n",
    "X1=X1.loc[y1.index,:]"
   ]
  },
  {
   "cell_type": "code",
   "execution_count": 97,
   "metadata": {},
   "outputs": [],
   "source": [
    "from sklearn.model_selection import train_test_split\n",
    "X_train,X_test,y_train,y_test = train_test_split(X1,y1,test_size=0.2,random_state=1)"
   ]
  },
  {
   "cell_type": "code",
   "execution_count": 98,
   "metadata": {},
   "outputs": [
    {
     "data": {
      "text/html": [
       "<style>#sk-container-id-1 {color: black;background-color: white;}#sk-container-id-1 pre{padding: 0;}#sk-container-id-1 div.sk-toggleable {background-color: white;}#sk-container-id-1 label.sk-toggleable__label {cursor: pointer;display: block;width: 100%;margin-bottom: 0;padding: 0.3em;box-sizing: border-box;text-align: center;}#sk-container-id-1 label.sk-toggleable__label-arrow:before {content: \"▸\";float: left;margin-right: 0.25em;color: #696969;}#sk-container-id-1 label.sk-toggleable__label-arrow:hover:before {color: black;}#sk-container-id-1 div.sk-estimator:hover label.sk-toggleable__label-arrow:before {color: black;}#sk-container-id-1 div.sk-toggleable__content {max-height: 0;max-width: 0;overflow: hidden;text-align: left;background-color: #f0f8ff;}#sk-container-id-1 div.sk-toggleable__content pre {margin: 0.2em;color: black;border-radius: 0.25em;background-color: #f0f8ff;}#sk-container-id-1 input.sk-toggleable__control:checked~div.sk-toggleable__content {max-height: 200px;max-width: 100%;overflow: auto;}#sk-container-id-1 input.sk-toggleable__control:checked~label.sk-toggleable__label-arrow:before {content: \"▾\";}#sk-container-id-1 div.sk-estimator input.sk-toggleable__control:checked~label.sk-toggleable__label {background-color: #d4ebff;}#sk-container-id-1 div.sk-label input.sk-toggleable__control:checked~label.sk-toggleable__label {background-color: #d4ebff;}#sk-container-id-1 input.sk-hidden--visually {border: 0;clip: rect(1px 1px 1px 1px);clip: rect(1px, 1px, 1px, 1px);height: 1px;margin: -1px;overflow: hidden;padding: 0;position: absolute;width: 1px;}#sk-container-id-1 div.sk-estimator {font-family: monospace;background-color: #f0f8ff;border: 1px dotted black;border-radius: 0.25em;box-sizing: border-box;margin-bottom: 0.5em;}#sk-container-id-1 div.sk-estimator:hover {background-color: #d4ebff;}#sk-container-id-1 div.sk-parallel-item::after {content: \"\";width: 100%;border-bottom: 1px solid gray;flex-grow: 1;}#sk-container-id-1 div.sk-label:hover label.sk-toggleable__label {background-color: #d4ebff;}#sk-container-id-1 div.sk-serial::before {content: \"\";position: absolute;border-left: 1px solid gray;box-sizing: border-box;top: 0;bottom: 0;left: 50%;z-index: 0;}#sk-container-id-1 div.sk-serial {display: flex;flex-direction: column;align-items: center;background-color: white;padding-right: 0.2em;padding-left: 0.2em;position: relative;}#sk-container-id-1 div.sk-item {position: relative;z-index: 1;}#sk-container-id-1 div.sk-parallel {display: flex;align-items: stretch;justify-content: center;background-color: white;position: relative;}#sk-container-id-1 div.sk-item::before, #sk-container-id-1 div.sk-parallel-item::before {content: \"\";position: absolute;border-left: 1px solid gray;box-sizing: border-box;top: 0;bottom: 0;left: 50%;z-index: -1;}#sk-container-id-1 div.sk-parallel-item {display: flex;flex-direction: column;z-index: 1;position: relative;background-color: white;}#sk-container-id-1 div.sk-parallel-item:first-child::after {align-self: flex-end;width: 50%;}#sk-container-id-1 div.sk-parallel-item:last-child::after {align-self: flex-start;width: 50%;}#sk-container-id-1 div.sk-parallel-item:only-child::after {width: 0;}#sk-container-id-1 div.sk-dashed-wrapped {border: 1px dashed gray;margin: 0 0.4em 0.5em 0.4em;box-sizing: border-box;padding-bottom: 0.4em;background-color: white;}#sk-container-id-1 div.sk-label label {font-family: monospace;font-weight: bold;display: inline-block;line-height: 1.2em;}#sk-container-id-1 div.sk-label-container {text-align: center;}#sk-container-id-1 div.sk-container {/* jupyter's `normalize.less` sets `[hidden] { display: none; }` but bootstrap.min.css set `[hidden] { display: none !important; }` so we also need the `!important` here to be able to override the default hidden behavior on the sphinx rendered scikit-learn.org. See: https://github.com/scikit-learn/scikit-learn/issues/21755 */display: inline-block !important;position: relative;}#sk-container-id-1 div.sk-text-repr-fallback {display: none;}</style><div id=\"sk-container-id-1\" class=\"sk-top-container\"><div class=\"sk-text-repr-fallback\"><pre>LinearRegression()</pre><b>In a Jupyter environment, please rerun this cell to show the HTML representation or trust the notebook. <br />On GitHub, the HTML representation is unable to render, please try loading this page with nbviewer.org.</b></div><div class=\"sk-container\" hidden><div class=\"sk-item\"><div class=\"sk-estimator sk-toggleable\"><input class=\"sk-toggleable__control sk-hidden--visually\" id=\"sk-estimator-id-1\" type=\"checkbox\" checked><label for=\"sk-estimator-id-1\" class=\"sk-toggleable__label sk-toggleable__label-arrow\">LinearRegression</label><div class=\"sk-toggleable__content\"><pre>LinearRegression()</pre></div></div></div></div></div>"
      ],
      "text/plain": [
       "LinearRegression()"
      ]
     },
     "execution_count": 98,
     "metadata": {},
     "output_type": "execute_result"
    }
   ],
   "source": [
    "from sklearn.linear_model import LinearRegression\n",
    "mmodel = LinearRegression()\n",
    "\n",
    "mmodel.fit(X_train,y_train)"
   ]
  },
  {
   "cell_type": "code",
   "execution_count": 99,
   "metadata": {},
   "outputs": [
    {
     "data": {
      "text/plain": [
       "((5465, 24), (1367, 24))"
      ]
     },
     "execution_count": 99,
     "metadata": {},
     "output_type": "execute_result"
    }
   ],
   "source": [
    "X_train.shape,X_test.shape"
   ]
  },
  {
   "cell_type": "code",
   "execution_count": 100,
   "metadata": {},
   "outputs": [],
   "source": [
    "# Residual\n",
    "y_pred = mmodel.predict(X_train)\n",
    "residual = y_train - y_pred"
   ]
  },
  {
   "cell_type": "markdown",
   "metadata": {},
   "source": [
    "The collective linear condition for Linear regression as the individual linear relationship between dep and indep variables need not to be strictly linear."
   ]
  },
  {
   "cell_type": "code",
   "execution_count": 101,
   "metadata": {},
   "outputs": [
    {
     "data": {
      "text/plain": [
       "<matplotlib.collections.PathCollection at 0x2c2c401e990>"
      ]
     },
     "execution_count": 101,
     "metadata": {},
     "output_type": "execute_result"
    },
    {
     "data": {
      "image/png": "[encoded data removed]",
      "text/plain": [
       "<Figure size 640x480 with 1 Axes>"
      ]
     },
     "metadata": {},
     "output_type": "display_data"
    }
   ],
   "source": [
    "plt.scatter(y_pred,y_train)"
   ]
  },
  {
   "cell_type": "markdown",
   "metadata": {},
   "source": [
    "- An overall linear pattern is visible with spread. So the condition of linearity is satisfied."
   ]
  },
  {
   "cell_type": "markdown",
   "metadata": {},
   "source": [
    "### 3. Residuals Normality Check\n"
   ]
  },
  {
   "cell_type": "code",
   "execution_count": 102,
   "metadata": {},
   "outputs": [
    {
     "name": "stderr",
     "output_type": "stream",
     "text": [
      "c:\\Python\\Python311\\Lib\\site-packages\\seaborn\\_oldcore.py:1119: FutureWarning: use_inf_as_na option is deprecated and will be removed in a future version. Convert inf values to NaN before operating instead.\n",
      "  with pd.option_context('mode.use_inf_as_na', True):\n"
     ]
    },
    {
     "data": {
      "text/plain": [
       "<Figure size 1200x400 with 0 Axes>"
      ]
     },
     "metadata": {},
     "output_type": "display_data"
    },
    {
     "data": {
      "image/png": "[encoded data removed]",
      "text/plain": [
       "<Figure size 800x800 with 1 Axes>"
      ]
     },
     "metadata": {},
     "output_type": "display_data"
    }
   ],
   "source": [
    "plt.figure(figsize=(12,4))\n",
    "sns.displot(residual,kind='kde',height=8)\n",
    "plt.show()"
   ]
  },
  {
   "cell_type": "markdown",
   "metadata": {},
   "source": [
    "- Hence the condition of residuals normality has been met."
   ]
  },
  {
   "cell_type": "markdown",
   "metadata": {},
   "source": [
    "### 4. Homoescadasticity"
   ]
  },
  {
   "cell_type": "code",
   "execution_count": 103,
   "metadata": {},
   "outputs": [
    {
     "data": {
      "text/plain": [
       "<matplotlib.collections.PathCollection at 0x2c2c412d950>"
      ]
     },
     "execution_count": 103,
     "metadata": {},
     "output_type": "execute_result"
    },
    {
     "data": {
      "image/png": "[encoded data removed]",
      "text/plain": [
       "<Figure size 640x480 with 1 Axes>"
      ]
     },
     "metadata": {},
     "output_type": "display_data"
    }
   ],
   "source": [
    "plt.scatter(y_pred,residual)"
   ]
  },
  {
   "cell_type": "markdown",
   "metadata": {},
   "source": [
    "- The spread of predictions with residuals does not seem to follow any funnel like pattern but it does show clustering of points hence there could be presence of heteroscedasticity.\n",
    "\n",
    "Lets verify using *Breusch pagan* test, a very powerful and commonly used test to assess the homogeniety in regression model."
   ]
  },
  {
   "cell_type": "code",
   "execution_count": 104,
   "metadata": {},
   "outputs": [
    {
     "name": "stdout",
     "output_type": "stream",
     "text": [
      "Breusch-Pagan Test Statistic: 355.0592174429374\n",
      "Breusch-Pagan Test p-value: 1.1703152407685476e-60\n"
     ]
    }
   ],
   "source": [
    "import statsmodels.api as sm\n",
    "from statsmodels.stats.diagnostic import het_breuschpagan\n",
    "\n",
    "# Fit linear regression model\n",
    "X = sm.add_constant(X_train) \n",
    "model = sm.OLS(y_train, X)\n",
    "results=model.fit()\n",
    "# Perform the Breusch-Pagan test\n",
    "bp_test = het_breuschpagan(results.resid, results.model.exog)\n",
    "\n",
    "# Extract the test statistics and p-value\n",
    "test_statistic = bp_test[0]\n",
    "p_value = bp_test[1]\n",
    "\n",
    "print(\"Breusch-Pagan Test Statistic:\", test_statistic)\n",
    "print(\"Breusch-Pagan Test p-value:\", p_value)\n"
   ]
  },
  {
   "cell_type": "markdown",
   "metadata": {},
   "source": [
    "- Clearly our model fails to address Homoscedasticity in residuals.\n",
    "\n",
    "Although all the other conditions of linear regression are fulfilled and aslo we didnt find clear funnel type scatter plot between y pred and residuals therefore it is safe to say that the presence of moderate heteroscedasticity will not severely impact our model quality and inferences."
   ]
  },
  {
   "cell_type": "markdown",
   "metadata": {},
   "source": [
    "### Model Validation\n",
    "Verifying the model performance to conclude the robustness of the model despite violation of homoscedasticity condition i.e if the model metric like mse, R sqared, on test and train are reasonably close to each other this would mean the model is robust and is not affected by the heteroscedasticity otherwise we may need to address this issue by performing transformation or put more efforts in feature engineering."
   ]
  },
  {
   "cell_type": "code",
   "execution_count": 105,
   "metadata": {},
   "outputs": [
    {
     "name": "stdout",
     "output_type": "stream",
     "text": [
      "Train MAE: 1.7474280637906216e-13\n",
      "Test MAE: -19.980842665413086 \n",
      "\n",
      "Train R-squared: 0.7404754178090773\n",
      "Test R-squared: 0.7226045259372316 \n",
      "\n",
      "Train MSE: 325571.35339471366\n",
      "Test MSE: 330573.20227220794\n"
     ]
    }
   ],
   "source": [
    "from sklearn.metrics import r2_score, mean_squared_error\n",
    "\n",
    "\n",
    "y_pred_test=mmodel.predict(X_test)\n",
    "# Calculation of MAE\n",
    "mae_test= np.mean(y_test - y_pred_test)\n",
    "mae_train=np.mean(y_train - y_pred)\n",
    "print('Train MAE:',mae_train)\n",
    "print(\"Test MAE:\",mae_test,\"\\n\")\n",
    "\n",
    "\n",
    "# Calculate R-squared error\n",
    "train_r2 = r2_score(y_train, y_pred)\n",
    "test_r2 = r2_score(y_test, y_pred_test)\n",
    "\n",
    "# Calculate Mean Squared Error (MSE)\n",
    "train_mse = mean_squared_error(y_train, y_pred)\n",
    "test_mse = mean_squared_error(y_test, y_pred_test)\n",
    "\n",
    "print(\"Train R-squared:\", train_r2)\n",
    "print(\"Test R-squared:\", test_r2,\"\\n\")\n",
    "print(\"Train MSE:\", train_mse)\n",
    "print(\"Test MSE:\", test_mse)\n",
    "\n"
   ]
  },
  {
   "cell_type": "markdown",
   "metadata": {},
   "source": [
    "Hence the model is able to generalize well on holdout data although the model's ability to explain the variability in sales is 73%. And in general the R squared score above 70% is considered reasonable to indicate driving factors in sales and help make informed decisions."
   ]
  },
  {
   "cell_type": "markdown",
   "metadata": {},
   "source": [
    "## Building OLS model "
   ]
  },
  {
   "cell_type": "code",
   "execution_count": 106,
   "metadata": {},
   "outputs": [
    {
     "data": {
      "text/plain": [
       "((6832, 24), (6832,))"
      ]
     },
     "execution_count": 106,
     "metadata": {},
     "output_type": "execute_result"
    }
   ],
   "source": [
    "'''Creating OLS model from scipy for detailed summary of our model.'''\n",
    "\n",
    "import statsmodels.formula.api as smf\n",
    "import statsmodels.api as sm\n",
    "\n",
    "X1.shape,y1.shape"
   ]
  },
  {
   "cell_type": "code",
   "execution_count": 107,
   "metadata": {},
   "outputs": [
    {
     "name": "stdout",
     "output_type": "stream",
     "text": [
      "                            OLS Regression Results                            \n",
      "==============================================================================\n",
      "Dep. Variable:            sale_amount   R-squared:                       0.740\n",
      "Model:                            OLS   Adj. R-squared:                  0.739\n",
      "Method:                 Least Squares   F-statistic:                     646.7\n",
      "Date:                Mon, 15 Apr 2024   Prob (F-statistic):               0.00\n",
      "Time:                        22:13:09   Log-Likelihood:                -42439.\n",
      "No. Observations:                5465   AIC:                         8.493e+04\n",
      "Df Residuals:                    5440   BIC:                         8.509e+04\n",
      "Df Model:                          24                                         \n",
      "Covariance Type:            nonrobust                                         \n",
      "==============================================================================================\n",
      "                                 coef    std err          t      P>|t|      [0.025      0.975]\n",
      "----------------------------------------------------------------------------------------------\n",
      "const                        173.8835     31.689      5.487      0.000     111.760     236.007\n",
      "no_baskets_Promo             -14.0262      6.147     -2.282      0.023     -26.077      -1.975\n",
      "discount                       1.8620      0.147     12.632      0.000       1.573       2.151\n",
      "cat_prod_cnt_Mother_Child     20.8900      2.523      8.279      0.000      15.943      25.837\n",
      "no_baskets_weekday            78.8035      3.977     19.815      0.000      71.007      86.600\n",
      "no_Promo_prods                 3.3149      1.455      2.278      0.023       0.462       6.167\n",
      "cat_prod_cnt_Drinks           -6.0977      1.712     -3.561      0.000      -9.454      -2.741\n",
      "cat_prod_cnt_Food              0.1328      0.639      0.208      0.835      -1.119       1.385\n",
      "cat_prod_cnt_Kitchen_Clean     9.2170      1.045      8.820      0.000       7.168      11.266\n",
      "Products_with_discount        -7.1165      0.523    -13.604      0.000      -8.142      -6.091\n",
      "cat_prod_cnt_Beauty            6.8900      1.313      5.249      0.000       4.317       9.463\n",
      "No_Distinct_categories        71.4428      6.321     11.303      0.000      59.052      83.834\n",
      "qty                            3.8242      0.144     26.592      0.000       3.542       4.106\n",
      "cat_prod_cnt_Home             14.0137      4.972      2.819      0.005       4.268      23.760\n",
      "cat_prod_cnt_HH_Electrical    49.3765     11.388      4.336      0.000      27.051      71.702\n",
      "no_baskets_weekend            85.4430      4.932     17.323      0.000      75.774      95.112\n",
      "cat_pen_Kitchen_Clean       -283.4073     36.695     -7.723      0.000    -355.344    -211.470\n",
      "cat_pen_HH_Electrical        145.1250     96.386      1.506      0.132     -43.829     334.079\n",
      "cat_pen_Drinks              -113.1028     37.394     -3.025      0.003    -186.409     -39.796\n",
      "cat_pen_Beauty              -203.4846     38.266     -5.318      0.000    -278.501    -128.468\n",
      "cat_pen_Food                -208.8532     34.048     -6.134      0.000    -275.601    -142.105\n",
      "cat_pen_Home                -199.0860     70.945     -2.806      0.005    -338.167     -60.005\n",
      "cat_pen_Mother_Child         179.5293     53.863      3.333      0.001      73.937     285.122\n",
      "cat_prod_cnt_Mobiles         154.4945     53.028      2.913      0.004      50.539     258.450\n",
      "cat_pen_Mobiles             2114.8525    277.202      7.629      0.000    1571.426    2658.279\n",
      "==============================================================================\n",
      "Omnibus:                     2491.927   Durbin-Watson:                   1.954\n",
      "Prob(Omnibus):                  0.000   Jarque-Bera (JB):            20569.324\n",
      "Skew:                           1.993   Prob(JB):                         0.00\n",
      "Kurtosis:                      11.628   Cond. No.                     5.88e+03\n",
      "==============================================================================\n",
      "\n",
      "Notes:\n",
      "[1] Standard Errors assume that the covariance matrix of the errors is correctly specified.\n",
      "[2] The condition number is large, 5.88e+03. This might indicate that there are\n",
      "strong multicollinearity or other numerical problems.\n"
     ]
    }
   ],
   "source": [
    "# Add a constant to the feature matrix\n",
    "X_train_with_const = sm.add_constant(X_train)\n",
    "\n",
    "# Create an OLS model\n",
    "ols_model = sm.OLS(y_train, X_train_with_const)\n",
    "\n",
    "# Fit the model\n",
    "ols_results = ols_model.fit()\n",
    "\n",
    "# Print the summary of the OLS regression results\n",
    "print(ols_results.summary())\n"
   ]
  },
  {
   "cell_type": "markdown",
   "metadata": {},
   "source": [
    "dropping the feature one by one whose p value is above 0.05 i.e the said feature's coef is statistically equal to zero i.e the feature fails to explain varability in target variable hence dropping it. "
   ]
  },
  {
   "cell_type": "code",
   "execution_count": 109,
   "metadata": {},
   "outputs": [],
   "source": [
    "# Dropping column having P-value>0.05\n",
    "def drop_var(mod):\n",
    "    q = mod.pvalues.drop('const')[mod.pvalues>0.05].sort_values(ascending=False).index[0]\n",
    "    return q"
   ]
  },
  {
   "cell_type": "code",
   "execution_count": 110,
   "metadata": {},
   "outputs": [
    {
     "name": "stdout",
     "output_type": "stream",
     "text": [
      "feature dropped: cat_prod_cnt_Food \n",
      "\n",
      "                            OLS Regression Results                            \n",
      "==============================================================================\n",
      "Dep. Variable:            sale_amount   R-squared:                       0.740\n",
      "Model:                            OLS   Adj. R-squared:                  0.739\n",
      "Method:                 Least Squares   F-statistic:                     675.0\n",
      "Date:                Mon, 15 Apr 2024   Prob (F-statistic):               0.00\n",
      "Time:                        22:13:53   Log-Likelihood:                -42439.\n",
      "No. Observations:                5465   AIC:                         8.493e+04\n",
      "Df Residuals:                    5441   BIC:                         8.508e+04\n",
      "Df Model:                          23                                         \n",
      "Covariance Type:            nonrobust                                         \n",
      "==============================================================================================\n",
      "                                 coef    std err          t      P>|t|      [0.025      0.975]\n",
      "----------------------------------------------------------------------------------------------\n",
      "const                        172.5204     31.001      5.565      0.000     111.746     233.294\n",
      "no_baskets_Promo             -14.0317      6.147     -2.283      0.022     -26.081      -1.982\n",
      "discount                       1.8567      0.145     12.795      0.000       1.572       2.141\n",
      "cat_prod_cnt_Mother_Child     20.8535      2.517      8.285      0.000      15.919      25.788\n",
      "no_baskets_weekday            78.9431      3.920     20.141      0.000      71.259      86.627\n",
      "no_Promo_prods                 3.3694      1.431      2.355      0.019       0.564       6.175\n",
      "cat_prod_cnt_Drinks           -6.0874      1.711     -3.557      0.000      -9.442      -2.732\n",
      "cat_prod_cnt_Kitchen_Clean     9.1937      1.039      8.850      0.000       7.157      11.230\n",
      "Products_with_discount        -7.0924      0.510    -13.906      0.000      -8.092      -6.093\n",
      "cat_prod_cnt_Beauty            6.8875      1.313      5.248      0.000       4.314       9.461\n",
      "No_Distinct_categories        71.3248      6.294     11.331      0.000      58.985      83.664\n",
      "qty                            3.8321      0.139     27.626      0.000       3.560       4.104\n",
      "cat_prod_cnt_Home             14.0443      4.969      2.826      0.005       4.303      23.785\n",
      "cat_prod_cnt_HH_Electrical    49.3486     11.386      4.334      0.000      27.027      71.671\n",
      "no_baskets_weekend            85.6053      4.870     17.579      0.000      76.059      95.152\n",
      "cat_pen_Kitchen_Clean       -283.3371     36.690     -7.722      0.000    -355.265    -211.409\n",
      "cat_pen_HH_Electrical        146.0662     96.271      1.517      0.129     -42.663     334.795\n",
      "cat_pen_Drinks              -113.4997     37.342     -3.039      0.002    -186.704     -40.295\n",
      "cat_pen_Beauty              -203.3939     38.260     -5.316      0.000    -278.399    -128.389\n",
      "cat_pen_Food                -205.2303     29.249     -7.017      0.000    -262.569    -147.891\n",
      "cat_pen_Home                -198.9744     70.937     -2.805      0.005    -338.039     -59.910\n",
      "cat_pen_Mother_Child         180.3479     53.714      3.358      0.001      75.047     285.648\n",
      "cat_prod_cnt_Mobiles         154.3956     53.021      2.912      0.004      50.453     258.338\n",
      "cat_pen_Mobiles             2116.2789    277.093      7.637      0.000    1573.066    2659.491\n",
      "==============================================================================\n",
      "Omnibus:                     2491.642   Durbin-Watson:                   1.954\n",
      "Prob(Omnibus):                  0.000   Jarque-Bera (JB):            20563.741\n",
      "Skew:                           1.993   Prob(JB):                         0.00\n",
      "Kurtosis:                      11.627   Cond. No.                     5.83e+03\n",
      "==============================================================================\n",
      "\n",
      "Notes:\n",
      "[1] Standard Errors assume that the covariance matrix of the errors is correctly specified.\n",
      "[2] The condition number is large, 5.83e+03. This might indicate that there are\n",
      "strong multicollinearity or other numerical problems.\n"
     ]
    }
   ],
   "source": [
    "# Model-2\n",
    "X_train_with_const = X_train_with_const.drop(drop_var(ols_results), axis = 1)\n",
    "print(\"feature dropped:\",drop_var(ols_results),\"\\n\")\n",
    "ols_model = sm.OLS(y_train, X_train_with_const)\n",
    "\n",
    "# Fit the model\n",
    "ols_results_2 = ols_model.fit()\n",
    "\n",
    "# Print the summary of the OLS regression results\n",
    "print(ols_results_2.summary())"
   ]
  },
  {
   "cell_type": "code",
   "execution_count": 111,
   "metadata": {},
   "outputs": [
    {
     "name": "stdout",
     "output_type": "stream",
     "text": [
      "feature dropped: cat_pen_HH_Electrical \n",
      "\n",
      "                            OLS Regression Results                            \n",
      "==============================================================================\n",
      "Dep. Variable:            sale_amount   R-squared:                       0.740\n",
      "Model:                            OLS   Adj. R-squared:                  0.739\n",
      "Method:                 Least Squares   F-statistic:                     705.4\n",
      "Date:                Mon, 15 Apr 2024   Prob (F-statistic):               0.00\n",
      "Time:                        22:14:13   Log-Likelihood:                -42440.\n",
      "No. Observations:                5465   AIC:                         8.493e+04\n",
      "Df Residuals:                    5442   BIC:                         8.508e+04\n",
      "Df Model:                          22                                         \n",
      "Covariance Type:            nonrobust                                         \n",
      "==============================================================================================\n",
      "                                 coef    std err          t      P>|t|      [0.025      0.975]\n",
      "----------------------------------------------------------------------------------------------\n",
      "const                        183.0288     30.221      6.056      0.000     123.784     242.274\n",
      "no_baskets_Promo             -14.2403      6.146     -2.317      0.021     -26.288      -2.192\n",
      "discount                       1.8494      0.145     12.751      0.000       1.565       2.134\n",
      "cat_prod_cnt_Mother_Child     20.9366      2.517      8.319      0.000      16.003      25.870\n",
      "no_baskets_weekday            77.9912      3.869     20.156      0.000      70.406      85.577\n",
      "no_Promo_prods                 3.3772      1.431      2.360      0.018       0.572       6.183\n",
      "cat_prod_cnt_Drinks           -5.9462      1.709     -3.479      0.001      -9.297      -2.596\n",
      "cat_prod_cnt_Kitchen_Clean     9.1814      1.039      8.837      0.000       7.145      11.218\n",
      "Products_with_discount        -7.0817      0.510    -13.885      0.000      -8.082      -6.082\n",
      "cat_prod_cnt_Beauty            6.8992      1.313      5.256      0.000       4.326       9.473\n",
      "No_Distinct_categories        72.3113      6.262     11.548      0.000      60.036      84.586\n",
      "qty                            3.8275      0.139     27.596      0.000       3.556       4.099\n",
      "cat_prod_cnt_Home             13.6579      4.963      2.752      0.006       3.928      23.387\n",
      "cat_prod_cnt_HH_Electrical    61.6708      7.982      7.726      0.000      46.023      77.318\n",
      "no_baskets_weekend            84.7970      4.841     17.516      0.000      75.307      94.287\n",
      "cat_pen_Kitchen_Clean       -284.1996     36.690     -7.746      0.000    -356.127    -212.272\n",
      "cat_pen_Drinks              -118.2863     37.213     -3.179      0.001    -191.238     -45.335\n",
      "cat_pen_Beauty              -205.8805     38.230     -5.385      0.000    -280.826    -130.935\n",
      "cat_pen_Food                -209.1239     29.139     -7.177      0.000    -266.249    -151.999\n",
      "cat_pen_Home                -195.7182     70.913     -2.760      0.006    -334.736     -56.701\n",
      "cat_pen_Mother_Child         173.0049     53.502      3.234      0.001      68.120     277.890\n",
      "cat_prod_cnt_Mobiles         152.5819     53.014      2.878      0.004      48.654     256.510\n",
      "cat_pen_Mobiles             2114.1693    277.122      7.629      0.000    1570.899    2657.440\n",
      "==============================================================================\n",
      "Omnibus:                     2493.349   Durbin-Watson:                   1.954\n",
      "Prob(Omnibus):                  0.000   Jarque-Bera (JB):            20581.846\n",
      "Skew:                           1.994   Prob(JB):                         0.00\n",
      "Kurtosis:                      11.630   Cond. No.                     5.83e+03\n",
      "==============================================================================\n",
      "\n",
      "Notes:\n",
      "[1] Standard Errors assume that the covariance matrix of the errors is correctly specified.\n",
      "[2] The condition number is large, 5.83e+03. This might indicate that there are\n",
      "strong multicollinearity or other numerical problems.\n"
     ]
    }
   ],
   "source": [
    "# Model-3\n",
    "X_train_with_const = X_train_with_const.drop(drop_var(ols_results_2), axis = 1)\n",
    "print(\"feature dropped:\",drop_var(ols_results_2),\"\\n\")\n",
    "ols_model = sm.OLS(y_train, X_train_with_const)\n",
    "\n",
    "# Fit the model\n",
    "ols_results_3 = ols_model.fit()\n",
    "\n",
    "# Print the summary of the OLS regression results\n",
    "print(ols_results_3.summary())"
   ]
  },
  {
   "cell_type": "markdown",
   "metadata": {},
   "source": [
    "Now all the variables have p values less than 0.05 hence the model-3 is our optimal model.\n"
   ]
  },
  {
   "cell_type": "markdown",
   "metadata": {},
   "source": [
    "## Identifying the key drivers for sales"
   ]
  },
  {
   "cell_type": "markdown",
   "metadata": {},
   "source": [
    "- To find the relative effect size or impact of each predictor on our target variable we will perform standardization on our x_train and y_train.\n",
    "- By doing this we will be able to quantify the impact of each predictors on the target variable as all the variables in the analysis will be on same scale or z scale. Hence making it easier to comment on if a unit SD change occurs on a predictor how will the sales be affected by that change if rest of the predictors were kept constant."
   ]
  },
  {
   "cell_type": "code",
   "execution_count": 113,
   "metadata": {},
   "outputs": [],
   "source": [
    "from sklearn.preprocessing import StandardScaler\n",
    "scaler_X = StandardScaler()\n",
    "# Fit and transform features\n",
    "X_train_scaled = scaler_X.fit_transform(X_train_with_const)\n",
    "\n",
    "# Create a StandardScaler object for target variable\n",
    "scaler_y = StandardScaler()\n",
    "# Reshape y_train to a 2D array as StandardScaler expects a 2D array\n",
    "y_train_reshaped = y_train.values.reshape(-1, 1)\n",
    "# Fit and transform target variable\n",
    "y_train_scaled = scaler_y.fit_transform(y_train_reshaped)"
   ]
  },
  {
   "cell_type": "code",
   "execution_count": 114,
   "metadata": {},
   "outputs": [
    {
     "data": {
      "text/html": [
       "<div>\n",
       "<style scoped>\n",
       "    .dataframe tbody tr th:only-of-type {\n",
       "        vertical-align: middle;\n",
       "    }\n",
       "\n",
       "    .dataframe tbody tr th {\n",
       "        vertical-align: top;\n",
       "    }\n",
       "\n",
       "    .dataframe thead th {\n",
       "        text-align: right;\n",
       "    }\n",
       "</style>\n",
       "<table border=\"1\" class=\"dataframe\">\n",
       "  <thead>\n",
       "    <tr style=\"text-align: right;\">\n",
       "      <th></th>\n",
       "      <th>const</th>\n",
       "      <th>no_baskets_Promo</th>\n",
       "      <th>discount</th>\n",
       "      <th>cat_prod_cnt_Mother_Child</th>\n",
       "      <th>no_baskets_weekday</th>\n",
       "      <th>no_Promo_prods</th>\n",
       "      <th>cat_prod_cnt_Drinks</th>\n",
       "      <th>cat_prod_cnt_Kitchen_Clean</th>\n",
       "      <th>Products_with_discount</th>\n",
       "      <th>cat_prod_cnt_Beauty</th>\n",
       "      <th>...</th>\n",
       "      <th>cat_prod_cnt_HH_Electrical</th>\n",
       "      <th>no_baskets_weekend</th>\n",
       "      <th>cat_pen_Kitchen_Clean</th>\n",
       "      <th>cat_pen_Drinks</th>\n",
       "      <th>cat_pen_Beauty</th>\n",
       "      <th>cat_pen_Food</th>\n",
       "      <th>cat_pen_Home</th>\n",
       "      <th>cat_pen_Mother_Child</th>\n",
       "      <th>cat_prod_cnt_Mobiles</th>\n",
       "      <th>cat_pen_Mobiles</th>\n",
       "    </tr>\n",
       "  </thead>\n",
       "  <tbody>\n",
       "    <tr>\n",
       "      <th>0</th>\n",
       "      <td>0.000</td>\n",
       "      <td>-1.080</td>\n",
       "      <td>-0.566</td>\n",
       "      <td>-0.364</td>\n",
       "      <td>-1.070</td>\n",
       "      <td>-0.801</td>\n",
       "      <td>-0.730</td>\n",
       "      <td>-0.759</td>\n",
       "      <td>-0.592</td>\n",
       "      <td>-0.849</td>\n",
       "      <td>...</td>\n",
       "      <td>-0.497</td>\n",
       "      <td>-0.485</td>\n",
       "      <td>-1.332</td>\n",
       "      <td>-1.243</td>\n",
       "      <td>-1.353</td>\n",
       "      <td>-1.697</td>\n",
       "      <td>-0.631</td>\n",
       "      <td>-0.513</td>\n",
       "      <td>-0.196</td>\n",
       "      <td>-0.161</td>\n",
       "    </tr>\n",
       "    <tr>\n",
       "      <th>1</th>\n",
       "      <td>0.000</td>\n",
       "      <td>-1.080</td>\n",
       "      <td>1.168</td>\n",
       "      <td>0.711</td>\n",
       "      <td>-0.133</td>\n",
       "      <td>-0.801</td>\n",
       "      <td>-0.730</td>\n",
       "      <td>-0.759</td>\n",
       "      <td>-0.341</td>\n",
       "      <td>-0.152</td>\n",
       "      <td>...</td>\n",
       "      <td>-0.497</td>\n",
       "      <td>-0.938</td>\n",
       "      <td>-1.332</td>\n",
       "      <td>-1.243</td>\n",
       "      <td>0.670</td>\n",
       "      <td>-1.697</td>\n",
       "      <td>-0.631</td>\n",
       "      <td>2.304</td>\n",
       "      <td>-0.196</td>\n",
       "      <td>-0.161</td>\n",
       "    </tr>\n",
       "    <tr>\n",
       "      <th>2</th>\n",
       "      <td>0.000</td>\n",
       "      <td>3.655</td>\n",
       "      <td>2.822</td>\n",
       "      <td>-0.149</td>\n",
       "      <td>1.508</td>\n",
       "      <td>9.590</td>\n",
       "      <td>3.860</td>\n",
       "      <td>-0.303</td>\n",
       "      <td>4.817</td>\n",
       "      <td>-0.650</td>\n",
       "      <td>...</td>\n",
       "      <td>0.419</td>\n",
       "      <td>1.326</td>\n",
       "      <td>-0.384</td>\n",
       "      <td>1.699</td>\n",
       "      <td>-0.957</td>\n",
       "      <td>1.361</td>\n",
       "      <td>-0.631</td>\n",
       "      <td>-0.237</td>\n",
       "      <td>-0.196</td>\n",
       "      <td>-0.161</td>\n",
       "    </tr>\n",
       "    <tr>\n",
       "      <th>3</th>\n",
       "      <td>0.000</td>\n",
       "      <td>1.148</td>\n",
       "      <td>0.634</td>\n",
       "      <td>-0.149</td>\n",
       "      <td>0.805</td>\n",
       "      <td>1.187</td>\n",
       "      <td>0.532</td>\n",
       "      <td>0.001</td>\n",
       "      <td>-0.047</td>\n",
       "      <td>1.242</td>\n",
       "      <td>...</td>\n",
       "      <td>-0.497</td>\n",
       "      <td>1.326</td>\n",
       "      <td>-0.641</td>\n",
       "      <td>0.424</td>\n",
       "      <td>0.092</td>\n",
       "      <td>0.856</td>\n",
       "      <td>-0.631</td>\n",
       "      <td>-0.178</td>\n",
       "      <td>-0.196</td>\n",
       "      <td>-0.161</td>\n",
       "    </tr>\n",
       "    <tr>\n",
       "      <th>4</th>\n",
       "      <td>0.000</td>\n",
       "      <td>-0.523</td>\n",
       "      <td>-0.366</td>\n",
       "      <td>-0.364</td>\n",
       "      <td>-0.836</td>\n",
       "      <td>-0.620</td>\n",
       "      <td>-0.500</td>\n",
       "      <td>-0.075</td>\n",
       "      <td>-0.466</td>\n",
       "      <td>-0.053</td>\n",
       "      <td>...</td>\n",
       "      <td>-0.497</td>\n",
       "      <td>-0.032</td>\n",
       "      <td>0.280</td>\n",
       "      <td>-0.410</td>\n",
       "      <td>1.176</td>\n",
       "      <td>0.740</td>\n",
       "      <td>-0.631</td>\n",
       "      <td>-0.513</td>\n",
       "      <td>-0.196</td>\n",
       "      <td>-0.161</td>\n",
       "    </tr>\n",
       "    <tr>\n",
       "      <th>...</th>\n",
       "      <td>...</td>\n",
       "      <td>...</td>\n",
       "      <td>...</td>\n",
       "      <td>...</td>\n",
       "      <td>...</td>\n",
       "      <td>...</td>\n",
       "      <td>...</td>\n",
       "      <td>...</td>\n",
       "      <td>...</td>\n",
       "      <td>...</td>\n",
       "      <td>...</td>\n",
       "      <td>...</td>\n",
       "      <td>...</td>\n",
       "      <td>...</td>\n",
       "      <td>...</td>\n",
       "      <td>...</td>\n",
       "      <td>...</td>\n",
       "      <td>...</td>\n",
       "      <td>...</td>\n",
       "      <td>...</td>\n",
       "      <td>...</td>\n",
       "    </tr>\n",
       "    <tr>\n",
       "      <th>5460</th>\n",
       "      <td>0.000</td>\n",
       "      <td>-0.802</td>\n",
       "      <td>-0.566</td>\n",
       "      <td>-0.364</td>\n",
       "      <td>-0.367</td>\n",
       "      <td>-0.711</td>\n",
       "      <td>-0.730</td>\n",
       "      <td>-0.759</td>\n",
       "      <td>-0.550</td>\n",
       "      <td>-0.252</td>\n",
       "      <td>...</td>\n",
       "      <td>-0.497</td>\n",
       "      <td>-0.938</td>\n",
       "      <td>-1.332</td>\n",
       "      <td>-1.243</td>\n",
       "      <td>0.333</td>\n",
       "      <td>-1.697</td>\n",
       "      <td>1.010</td>\n",
       "      <td>-0.513</td>\n",
       "      <td>-0.196</td>\n",
       "      <td>-0.161</td>\n",
       "    </tr>\n",
       "    <tr>\n",
       "      <th>5461</th>\n",
       "      <td>0.000</td>\n",
       "      <td>-0.523</td>\n",
       "      <td>-0.299</td>\n",
       "      <td>0.711</td>\n",
       "      <td>-1.070</td>\n",
       "      <td>-0.530</td>\n",
       "      <td>-0.730</td>\n",
       "      <td>-0.075</td>\n",
       "      <td>-0.508</td>\n",
       "      <td>-0.750</td>\n",
       "      <td>...</td>\n",
       "      <td>-0.497</td>\n",
       "      <td>0.421</td>\n",
       "      <td>1.085</td>\n",
       "      <td>-1.243</td>\n",
       "      <td>-0.510</td>\n",
       "      <td>-0.885</td>\n",
       "      <td>1.010</td>\n",
       "      <td>1.834</td>\n",
       "      <td>-0.196</td>\n",
       "      <td>-0.161</td>\n",
       "    </tr>\n",
       "    <tr>\n",
       "      <th>5462</th>\n",
       "      <td>0.000</td>\n",
       "      <td>-0.245</td>\n",
       "      <td>-0.566</td>\n",
       "      <td>-0.364</td>\n",
       "      <td>-0.836</td>\n",
       "      <td>-0.169</td>\n",
       "      <td>-0.156</td>\n",
       "      <td>-0.227</td>\n",
       "      <td>-0.592</td>\n",
       "      <td>-0.152</td>\n",
       "      <td>...</td>\n",
       "      <td>-0.497</td>\n",
       "      <td>-0.032</td>\n",
       "      <td>1.085</td>\n",
       "      <td>1.257</td>\n",
       "      <td>1.176</td>\n",
       "      <td>0.740</td>\n",
       "      <td>-0.631</td>\n",
       "      <td>-0.513</td>\n",
       "      <td>-0.196</td>\n",
       "      <td>-0.161</td>\n",
       "    </tr>\n",
       "    <tr>\n",
       "      <th>5463</th>\n",
       "      <td>0.000</td>\n",
       "      <td>1.148</td>\n",
       "      <td>0.928</td>\n",
       "      <td>-0.149</td>\n",
       "      <td>1.976</td>\n",
       "      <td>0.374</td>\n",
       "      <td>-0.386</td>\n",
       "      <td>1.141</td>\n",
       "      <td>2.008</td>\n",
       "      <td>-0.053</td>\n",
       "      <td>...</td>\n",
       "      <td>-0.497</td>\n",
       "      <td>0.874</td>\n",
       "      <td>0.459</td>\n",
       "      <td>-0.873</td>\n",
       "      <td>-0.604</td>\n",
       "      <td>0.830</td>\n",
       "      <td>0.463</td>\n",
       "      <td>-0.252</td>\n",
       "      <td>-0.196</td>\n",
       "      <td>-0.161</td>\n",
       "    </tr>\n",
       "    <tr>\n",
       "      <th>5464</th>\n",
       "      <td>0.000</td>\n",
       "      <td>-0.523</td>\n",
       "      <td>-0.566</td>\n",
       "      <td>-0.364</td>\n",
       "      <td>-0.602</td>\n",
       "      <td>-0.620</td>\n",
       "      <td>-0.730</td>\n",
       "      <td>-0.759</td>\n",
       "      <td>-0.592</td>\n",
       "      <td>-0.152</td>\n",
       "      <td>...</td>\n",
       "      <td>-0.497</td>\n",
       "      <td>1.326</td>\n",
       "      <td>-1.332</td>\n",
       "      <td>-1.243</td>\n",
       "      <td>-0.089</td>\n",
       "      <td>1.552</td>\n",
       "      <td>-0.631</td>\n",
       "      <td>-0.513</td>\n",
       "      <td>-0.196</td>\n",
       "      <td>-0.161</td>\n",
       "    </tr>\n",
       "  </tbody>\n",
       "</table>\n",
       "<p>5465 rows × 23 columns</p>\n",
       "</div>"
      ],
      "text/plain": [
       "      const  no_baskets_Promo  discount  cat_prod_cnt_Mother_Child  \\\n",
       "0     0.000            -1.080    -0.566                     -0.364   \n",
       "1     0.000            -1.080     1.168                      0.711   \n",
       "2     0.000             3.655     2.822                     -0.149   \n",
       "3     0.000             1.148     0.634                     -0.149   \n",
       "4     0.000            -0.523    -0.366                     -0.364   \n",
       "...     ...               ...       ...                        ...   \n",
       "5460  0.000            -0.802    -0.566                     -0.364   \n",
       "5461  0.000            -0.523    -0.299                      0.711   \n",
       "5462  0.000            -0.245    -0.566                     -0.364   \n",
       "5463  0.000             1.148     0.928                     -0.149   \n",
       "5464  0.000            -0.523    -0.566                     -0.364   \n",
       "\n",
       "      no_baskets_weekday  no_Promo_prods  cat_prod_cnt_Drinks  \\\n",
       "0                 -1.070          -0.801               -0.730   \n",
       "1                 -0.133          -0.801               -0.730   \n",
       "2                  1.508           9.590                3.860   \n",
       "3                  0.805           1.187                0.532   \n",
       "4                 -0.836          -0.620               -0.500   \n",
       "...                  ...             ...                  ...   \n",
       "5460              -0.367          -0.711               -0.730   \n",
       "5461              -1.070          -0.530               -0.730   \n",
       "5462              -0.836          -0.169               -0.156   \n",
       "5463               1.976           0.374               -0.386   \n",
       "5464              -0.602          -0.620               -0.730   \n",
       "\n",
       "      cat_prod_cnt_Kitchen_Clean  Products_with_discount  cat_prod_cnt_Beauty  \\\n",
       "0                         -0.759                  -0.592               -0.849   \n",
       "1                         -0.759                  -0.341               -0.152   \n",
       "2                         -0.303                   4.817               -0.650   \n",
       "3                          0.001                  -0.047                1.242   \n",
       "4                         -0.075                  -0.466               -0.053   \n",
       "...                          ...                     ...                  ...   \n",
       "5460                      -0.759                  -0.550               -0.252   \n",
       "5461                      -0.075                  -0.508               -0.750   \n",
       "5462                      -0.227                  -0.592               -0.152   \n",
       "5463                       1.141                   2.008               -0.053   \n",
       "5464                      -0.759                  -0.592               -0.152   \n",
       "\n",
       "      ...  cat_prod_cnt_HH_Electrical  no_baskets_weekend  \\\n",
       "0     ...                      -0.497              -0.485   \n",
       "1     ...                      -0.497              -0.938   \n",
       "2     ...                       0.419               1.326   \n",
       "3     ...                      -0.497               1.326   \n",
       "4     ...                      -0.497              -0.032   \n",
       "...   ...                         ...                 ...   \n",
       "5460  ...                      -0.497              -0.938   \n",
       "5461  ...                      -0.497               0.421   \n",
       "5462  ...                      -0.497              -0.032   \n",
       "5463  ...                      -0.497               0.874   \n",
       "5464  ...                      -0.497               1.326   \n",
       "\n",
       "      cat_pen_Kitchen_Clean  cat_pen_Drinks  cat_pen_Beauty  cat_pen_Food  \\\n",
       "0                    -1.332          -1.243          -1.353        -1.697   \n",
       "1                    -1.332          -1.243           0.670        -1.697   \n",
       "2                    -0.384           1.699          -0.957         1.361   \n",
       "3                    -0.641           0.424           0.092         0.856   \n",
       "4                     0.280          -0.410           1.176         0.740   \n",
       "...                     ...             ...             ...           ...   \n",
       "5460                 -1.332          -1.243           0.333        -1.697   \n",
       "5461                  1.085          -1.243          -0.510        -0.885   \n",
       "5462                  1.085           1.257           1.176         0.740   \n",
       "5463                  0.459          -0.873          -0.604         0.830   \n",
       "5464                 -1.332          -1.243          -0.089         1.552   \n",
       "\n",
       "      cat_pen_Home  cat_pen_Mother_Child  cat_prod_cnt_Mobiles  \\\n",
       "0           -0.631                -0.513                -0.196   \n",
       "1           -0.631                 2.304                -0.196   \n",
       "2           -0.631                -0.237                -0.196   \n",
       "3           -0.631                -0.178                -0.196   \n",
       "4           -0.631                -0.513                -0.196   \n",
       "...            ...                   ...                   ...   \n",
       "5460         1.010                -0.513                -0.196   \n",
       "5461         1.010                 1.834                -0.196   \n",
       "5462        -0.631                -0.513                -0.196   \n",
       "5463         0.463                -0.252                -0.196   \n",
       "5464        -0.631                -0.513                -0.196   \n",
       "\n",
       "      cat_pen_Mobiles  \n",
       "0              -0.161  \n",
       "1              -0.161  \n",
       "2              -0.161  \n",
       "3              -0.161  \n",
       "4              -0.161  \n",
       "...               ...  \n",
       "5460           -0.161  \n",
       "5461           -0.161  \n",
       "5462           -0.161  \n",
       "5463           -0.161  \n",
       "5464           -0.161  \n",
       "\n",
       "[5465 rows x 23 columns]"
      ]
     },
     "execution_count": 114,
     "metadata": {},
     "output_type": "execute_result"
    }
   ],
   "source": [
    "X_train_scaled=pd.DataFrame(X_train_scaled,columns=X_train_with_const.columns)\n",
    "X_train_scaled"
   ]
  },
  {
   "cell_type": "code",
   "execution_count": 115,
   "metadata": {},
   "outputs": [],
   "source": [
    "X_train_scaled.drop(columns=['const'],inplace=True)"
   ]
  },
  {
   "cell_type": "code",
   "execution_count": 116,
   "metadata": {},
   "outputs": [
    {
     "name": "stdout",
     "output_type": "stream",
     "text": [
      "                            OLS Regression Results                            \n",
      "==============================================================================\n",
      "Dep. Variable:                      y   R-squared:                       0.740\n",
      "Model:                            OLS   Adj. R-squared:                  0.739\n",
      "Method:                 Least Squares   F-statistic:                     705.4\n",
      "Date:                Mon, 15 Apr 2024   Prob (F-statistic):               0.00\n",
      "Time:                        22:14:45   Log-Likelihood:                -4069.8\n",
      "No. Observations:                5465   AIC:                             8186.\n",
      "Df Residuals:                    5442   BIC:                             8338.\n",
      "Df Model:                          22                                         \n",
      "Covariance Type:            nonrobust                                         \n",
      "==============================================================================================\n",
      "                                 coef    std err          t      P>|t|      [0.025      0.975]\n",
      "----------------------------------------------------------------------------------------------\n",
      "const                       3.417e-17      0.007   4.95e-15      1.000      -0.014       0.014\n",
      "no_baskets_Promo              -0.0456      0.020     -2.317      0.021      -0.084      -0.007\n",
      "discount                       0.1238      0.010     12.751      0.000       0.105       0.143\n",
      "cat_prod_cnt_Mother_Child      0.0869      0.010      8.319      0.000       0.066       0.107\n",
      "no_baskets_weekday             0.2971      0.015     20.156      0.000       0.268       0.326\n",
      "no_Promo_prods                 0.0334      0.014      2.360      0.018       0.006       0.061\n",
      "cat_prod_cnt_Drinks           -0.0463      0.013     -3.479      0.001      -0.072      -0.020\n",
      "cat_prod_cnt_Kitchen_Clean     0.1079      0.012      8.837      0.000       0.084       0.132\n",
      "Products_with_discount        -0.1508      0.011    -13.885      0.000      -0.172      -0.129\n",
      "cat_prod_cnt_Beauty            0.0619      0.012      5.256      0.000       0.039       0.085\n",
      "No_Distinct_categories         0.1281      0.011     11.548      0.000       0.106       0.150\n",
      "qty                            0.3585      0.013     27.596      0.000       0.333       0.384\n",
      "cat_prod_cnt_Home              0.0279      0.010      2.752      0.006       0.008       0.048\n",
      "cat_prod_cnt_HH_Electrical     0.0601      0.008      7.726      0.000       0.045       0.075\n",
      "no_baskets_weekend             0.1672      0.010     17.516      0.000       0.148       0.186\n",
      "cat_pen_Kitchen_Clean         -0.0787      0.010     -7.746      0.000      -0.099      -0.059\n",
      "cat_pen_Drinks                -0.0317      0.010     -3.179      0.001      -0.051      -0.012\n",
      "cat_pen_Beauty                -0.0545      0.010     -5.385      0.000      -0.074      -0.035\n",
      "cat_pen_Food                  -0.0575      0.008     -7.177      0.000      -0.073      -0.042\n",
      "cat_pen_Home                  -0.0266      0.010     -2.760      0.006      -0.046      -0.008\n",
      "cat_pen_Mother_Child           0.0329      0.010      3.234      0.001       0.013       0.053\n",
      "cat_prod_cnt_Mobiles           0.0340      0.012      2.878      0.004       0.011       0.057\n",
      "cat_pen_Mobiles                0.0888      0.012      7.629      0.000       0.066       0.112\n",
      "==============================================================================\n",
      "Omnibus:                     2493.349   Durbin-Watson:                   1.954\n",
      "Prob(Omnibus):                  0.000   Jarque-Bera (JB):            20581.846\n",
      "Skew:                           1.994   Prob(JB):                         0.00\n",
      "Kurtosis:                      11.630   Cond. No.                         8.91\n",
      "==============================================================================\n",
      "\n",
      "Notes:\n",
      "[1] Standard Errors assume that the covariance matrix of the errors is correctly specified.\n"
     ]
    }
   ],
   "source": [
    "\n",
    "# Add a constant to the feature matrix\n",
    "X_train_with_const = sm.add_constant(X_train_scaled)\n",
    "\n",
    "# Create an OLS model\n",
    "ols_model = sm.OLS(y_train_scaled, X_train_with_const)\n",
    "\n",
    "# Fit the model\n",
    "ols_results_final = ols_model.fit()\n",
    "\n",
    "# Print the summary of the OLS regression results\n",
    "print(ols_results_final.summary())"
   ]
  },
  {
   "cell_type": "code",
   "execution_count": 117,
   "metadata": {},
   "outputs": [
    {
     "data": {
      "text/html": [
       "<div>\n",
       "<style scoped>\n",
       "    .dataframe tbody tr th:only-of-type {\n",
       "        vertical-align: middle;\n",
       "    }\n",
       "\n",
       "    .dataframe tbody tr th {\n",
       "        vertical-align: top;\n",
       "    }\n",
       "\n",
       "    .dataframe thead th {\n",
       "        text-align: right;\n",
       "    }\n",
       "</style>\n",
       "<table border=\"1\" class=\"dataframe\">\n",
       "  <thead>\n",
       "    <tr style=\"text-align: right;\">\n",
       "      <th></th>\n",
       "      <th>index</th>\n",
       "      <th>beta_coef_standardize</th>\n",
       "      <th>P values</th>\n",
       "    </tr>\n",
       "  </thead>\n",
       "  <tbody>\n",
       "    <tr>\n",
       "      <th>0</th>\n",
       "      <td>const</td>\n",
       "      <td>0.000</td>\n",
       "      <td>1.000</td>\n",
       "    </tr>\n",
       "    <tr>\n",
       "      <th>1</th>\n",
       "      <td>no_baskets_Promo</td>\n",
       "      <td>-0.046</td>\n",
       "      <td>0.021</td>\n",
       "    </tr>\n",
       "    <tr>\n",
       "      <th>2</th>\n",
       "      <td>discount</td>\n",
       "      <td>0.124</td>\n",
       "      <td>0.000</td>\n",
       "    </tr>\n",
       "    <tr>\n",
       "      <th>3</th>\n",
       "      <td>cat_prod_cnt_Mother_Child</td>\n",
       "      <td>0.087</td>\n",
       "      <td>0.000</td>\n",
       "    </tr>\n",
       "    <tr>\n",
       "      <th>4</th>\n",
       "      <td>no_baskets_weekday</td>\n",
       "      <td>0.297</td>\n",
       "      <td>0.000</td>\n",
       "    </tr>\n",
       "    <tr>\n",
       "      <th>5</th>\n",
       "      <td>no_Promo_prods</td>\n",
       "      <td>0.033</td>\n",
       "      <td>0.018</td>\n",
       "    </tr>\n",
       "    <tr>\n",
       "      <th>6</th>\n",
       "      <td>cat_prod_cnt_Drinks</td>\n",
       "      <td>-0.046</td>\n",
       "      <td>0.001</td>\n",
       "    </tr>\n",
       "    <tr>\n",
       "      <th>7</th>\n",
       "      <td>cat_prod_cnt_Kitchen_Clean</td>\n",
       "      <td>0.108</td>\n",
       "      <td>0.000</td>\n",
       "    </tr>\n",
       "    <tr>\n",
       "      <th>8</th>\n",
       "      <td>Products_with_discount</td>\n",
       "      <td>-0.151</td>\n",
       "      <td>0.000</td>\n",
       "    </tr>\n",
       "    <tr>\n",
       "      <th>9</th>\n",
       "      <td>cat_prod_cnt_Beauty</td>\n",
       "      <td>0.062</td>\n",
       "      <td>0.000</td>\n",
       "    </tr>\n",
       "    <tr>\n",
       "      <th>10</th>\n",
       "      <td>No_Distinct_categories</td>\n",
       "      <td>0.128</td>\n",
       "      <td>0.000</td>\n",
       "    </tr>\n",
       "    <tr>\n",
       "      <th>11</th>\n",
       "      <td>qty</td>\n",
       "      <td>0.358</td>\n",
       "      <td>0.000</td>\n",
       "    </tr>\n",
       "    <tr>\n",
       "      <th>12</th>\n",
       "      <td>cat_prod_cnt_Home</td>\n",
       "      <td>0.028</td>\n",
       "      <td>0.006</td>\n",
       "    </tr>\n",
       "    <tr>\n",
       "      <th>13</th>\n",
       "      <td>cat_prod_cnt_HH_Electrical</td>\n",
       "      <td>0.060</td>\n",
       "      <td>0.000</td>\n",
       "    </tr>\n",
       "    <tr>\n",
       "      <th>14</th>\n",
       "      <td>no_baskets_weekend</td>\n",
       "      <td>0.167</td>\n",
       "      <td>0.000</td>\n",
       "    </tr>\n",
       "    <tr>\n",
       "      <th>15</th>\n",
       "      <td>cat_pen_Kitchen_Clean</td>\n",
       "      <td>-0.079</td>\n",
       "      <td>0.000</td>\n",
       "    </tr>\n",
       "    <tr>\n",
       "      <th>16</th>\n",
       "      <td>cat_pen_Drinks</td>\n",
       "      <td>-0.032</td>\n",
       "      <td>0.001</td>\n",
       "    </tr>\n",
       "    <tr>\n",
       "      <th>17</th>\n",
       "      <td>cat_pen_Beauty</td>\n",
       "      <td>-0.055</td>\n",
       "      <td>0.000</td>\n",
       "    </tr>\n",
       "    <tr>\n",
       "      <th>18</th>\n",
       "      <td>cat_pen_Food</td>\n",
       "      <td>-0.057</td>\n",
       "      <td>0.000</td>\n",
       "    </tr>\n",
       "    <tr>\n",
       "      <th>19</th>\n",
       "      <td>cat_pen_Home</td>\n",
       "      <td>-0.027</td>\n",
       "      <td>0.006</td>\n",
       "    </tr>\n",
       "    <tr>\n",
       "      <th>20</th>\n",
       "      <td>cat_pen_Mother_Child</td>\n",
       "      <td>0.033</td>\n",
       "      <td>0.001</td>\n",
       "    </tr>\n",
       "    <tr>\n",
       "      <th>21</th>\n",
       "      <td>cat_prod_cnt_Mobiles</td>\n",
       "      <td>0.034</td>\n",
       "      <td>0.004</td>\n",
       "    </tr>\n",
       "    <tr>\n",
       "      <th>22</th>\n",
       "      <td>cat_pen_Mobiles</td>\n",
       "      <td>0.089</td>\n",
       "      <td>0.000</td>\n",
       "    </tr>\n",
       "  </tbody>\n",
       "</table>\n",
       "</div>"
      ],
      "text/plain": [
       "                         index  beta_coef_standardize  P values\n",
       "0                        const                  0.000     1.000\n",
       "1             no_baskets_Promo                 -0.046     0.021\n",
       "2                     discount                  0.124     0.000\n",
       "3    cat_prod_cnt_Mother_Child                  0.087     0.000\n",
       "4           no_baskets_weekday                  0.297     0.000\n",
       "5               no_Promo_prods                  0.033     0.018\n",
       "6          cat_prod_cnt_Drinks                 -0.046     0.001\n",
       "7   cat_prod_cnt_Kitchen_Clean                  0.108     0.000\n",
       "8       Products_with_discount                 -0.151     0.000\n",
       "9          cat_prod_cnt_Beauty                  0.062     0.000\n",
       "10      No_Distinct_categories                  0.128     0.000\n",
       "11                         qty                  0.358     0.000\n",
       "12           cat_prod_cnt_Home                  0.028     0.006\n",
       "13  cat_prod_cnt_HH_Electrical                  0.060     0.000\n",
       "14          no_baskets_weekend                  0.167     0.000\n",
       "15       cat_pen_Kitchen_Clean                 -0.079     0.000\n",
       "16              cat_pen_Drinks                 -0.032     0.001\n",
       "17              cat_pen_Beauty                 -0.055     0.000\n",
       "18                cat_pen_Food                 -0.057     0.000\n",
       "19                cat_pen_Home                 -0.027     0.006\n",
       "20        cat_pen_Mother_Child                  0.033     0.001\n",
       "21        cat_prod_cnt_Mobiles                  0.034     0.004\n",
       "22             cat_pen_Mobiles                  0.089     0.000"
      ]
     },
     "execution_count": 117,
     "metadata": {},
     "output_type": "execute_result"
    }
   ],
   "source": [
    "# Acquiring beta coeffs of predictors and their p values\n",
    "all_pred_df=pd.DataFrame({'beta_coef_standardize':ols_results_final.params,'P values':ols_results_final.pvalues},index=ols_results_final.pvalues.index)\n",
    "all_pred_df=all_pred_df.reset_index()\n",
    "all_pred_df"
   ]
  },
  {
   "cell_type": "markdown",
   "metadata": {},
   "source": [
    "## Top product categories as drivers of sales"
   ]
  },
  {
   "cell_type": "code",
   "execution_count": 118,
   "metadata": {},
   "outputs": [
    {
     "data": {
      "text/html": [
       "<div>\n",
       "<style scoped>\n",
       "    .dataframe tbody tr th:only-of-type {\n",
       "        vertical-align: middle;\n",
       "    }\n",
       "\n",
       "    .dataframe tbody tr th {\n",
       "        vertical-align: top;\n",
       "    }\n",
       "\n",
       "    .dataframe thead th {\n",
       "        text-align: right;\n",
       "    }\n",
       "</style>\n",
       "<table border=\"1\" class=\"dataframe\">\n",
       "  <thead>\n",
       "    <tr style=\"text-align: right;\">\n",
       "      <th></th>\n",
       "      <th>index</th>\n",
       "      <th>beta_coef_standardize</th>\n",
       "      <th>P values</th>\n",
       "    </tr>\n",
       "  </thead>\n",
       "  <tbody>\n",
       "    <tr>\n",
       "      <th>7</th>\n",
       "      <td>cat_prod_cnt_Kitchen_Clean</td>\n",
       "      <td>0.108</td>\n",
       "      <td>0.000</td>\n",
       "    </tr>\n",
       "    <tr>\n",
       "      <th>3</th>\n",
       "      <td>cat_prod_cnt_Mother_Child</td>\n",
       "      <td>0.087</td>\n",
       "      <td>0.000</td>\n",
       "    </tr>\n",
       "    <tr>\n",
       "      <th>9</th>\n",
       "      <td>cat_prod_cnt_Beauty</td>\n",
       "      <td>0.062</td>\n",
       "      <td>0.000</td>\n",
       "    </tr>\n",
       "    <tr>\n",
       "      <th>13</th>\n",
       "      <td>cat_prod_cnt_HH_Electrical</td>\n",
       "      <td>0.060</td>\n",
       "      <td>0.000</td>\n",
       "    </tr>\n",
       "    <tr>\n",
       "      <th>21</th>\n",
       "      <td>cat_prod_cnt_Mobiles</td>\n",
       "      <td>0.034</td>\n",
       "      <td>0.004</td>\n",
       "    </tr>\n",
       "    <tr>\n",
       "      <th>12</th>\n",
       "      <td>cat_prod_cnt_Home</td>\n",
       "      <td>0.028</td>\n",
       "      <td>0.006</td>\n",
       "    </tr>\n",
       "  </tbody>\n",
       "</table>\n",
       "</div>"
      ],
      "text/plain": [
       "                         index  beta_coef_standardize  P values\n",
       "7   cat_prod_cnt_Kitchen_Clean                  0.108     0.000\n",
       "3    cat_prod_cnt_Mother_Child                  0.087     0.000\n",
       "9          cat_prod_cnt_Beauty                  0.062     0.000\n",
       "13  cat_prod_cnt_HH_Electrical                  0.060     0.000\n",
       "21        cat_prod_cnt_Mobiles                  0.034     0.004\n",
       "12           cat_prod_cnt_Home                  0.028     0.006"
      ]
     },
     "execution_count": 118,
     "metadata": {},
     "output_type": "execute_result"
    }
   ],
   "source": [
    "all_pred_df[(all_pred_df['index'].str.contains('cat_prod_cnt')) & (all_pred_df['beta_coef_standardize']>0)].sort_values(by='beta_coef_standardize',ascending=False)"
   ]
  },
  {
   "cell_type": "code",
   "execution_count": 125,
   "metadata": {},
   "outputs": [
    {
     "data": {
      "text/plain": [
       "1120.1432856410288"
      ]
     },
     "execution_count": 125,
     "metadata": {},
     "output_type": "execute_result"
    }
   ],
   "source": [
    "y_train.std()"
   ]
  },
  {
   "cell_type": "markdown",
   "metadata": {},
   "source": [
    "Among all the product category 'Kitchen_Clean' category is driving the sales more than the rest of the categories. Basically if 1 Std rise occurs in count of products sold in 'Kitchen_Clean' category leads to 0.108 Std rise in sales amount.\n",
    "\n",
    "1 std of cat_prod_cnt_Kitchen_Clean= 13.16\n",
    "1 std of sale_amount= 1120.14\n",
    "\n",
    "so for the rise of 13.16 units of products in this category, will lead to rise in sales by 0.108*1120.14 = 120.14 if all the predictors are kept constant."
   ]
  },
  {
   "cell_type": "code",
   "execution_count": 123,
   "metadata": {},
   "outputs": [],
   "source": [
    "def fun(predictor):\n",
    "    if predictor!='const':\n",
    "        return np.std(X_train.loc[:,predictor])\n",
    "    else:\n",
    "        pass\n",
    "all_pred_df['Std']=all_pred_df['index'].apply(fun)"
   ]
  },
  {
   "cell_type": "code",
   "execution_count": 124,
   "metadata": {},
   "outputs": [
    {
     "data": {
      "text/html": [
       "<div>\n",
       "<style scoped>\n",
       "    .dataframe tbody tr th:only-of-type {\n",
       "        vertical-align: middle;\n",
       "    }\n",
       "\n",
       "    .dataframe tbody tr th {\n",
       "        vertical-align: top;\n",
       "    }\n",
       "\n",
       "    .dataframe thead th {\n",
       "        text-align: right;\n",
       "    }\n",
       "</style>\n",
       "<table border=\"1\" class=\"dataframe\">\n",
       "  <thead>\n",
       "    <tr style=\"text-align: right;\">\n",
       "      <th></th>\n",
       "      <th>index</th>\n",
       "      <th>beta_coef_standardize</th>\n",
       "      <th>P values</th>\n",
       "      <th>Std</th>\n",
       "    </tr>\n",
       "  </thead>\n",
       "  <tbody>\n",
       "    <tr>\n",
       "      <th>0</th>\n",
       "      <td>const</td>\n",
       "      <td>0.000</td>\n",
       "      <td>1.000</td>\n",
       "      <td>NaN</td>\n",
       "    </tr>\n",
       "    <tr>\n",
       "      <th>1</th>\n",
       "      <td>no_baskets_Promo</td>\n",
       "      <td>-0.046</td>\n",
       "      <td>0.021</td>\n",
       "      <td>3.590</td>\n",
       "    </tr>\n",
       "    <tr>\n",
       "      <th>2</th>\n",
       "      <td>discount</td>\n",
       "      <td>0.124</td>\n",
       "      <td>0.000</td>\n",
       "      <td>74.992</td>\n",
       "    </tr>\n",
       "    <tr>\n",
       "      <th>3</th>\n",
       "      <td>cat_prod_cnt_Mother_Child</td>\n",
       "      <td>0.087</td>\n",
       "      <td>0.000</td>\n",
       "      <td>4.650</td>\n",
       "    </tr>\n",
       "    <tr>\n",
       "      <th>4</th>\n",
       "      <td>no_baskets_weekday</td>\n",
       "      <td>0.297</td>\n",
       "      <td>0.000</td>\n",
       "      <td>4.267</td>\n",
       "    </tr>\n",
       "    <tr>\n",
       "      <th>5</th>\n",
       "      <td>no_Promo_prods</td>\n",
       "      <td>0.033</td>\n",
       "      <td>0.018</td>\n",
       "      <td>11.067</td>\n",
       "    </tr>\n",
       "    <tr>\n",
       "      <th>6</th>\n",
       "      <td>cat_prod_cnt_Drinks</td>\n",
       "      <td>-0.046</td>\n",
       "      <td>0.001</td>\n",
       "      <td>8.715</td>\n",
       "    </tr>\n",
       "    <tr>\n",
       "      <th>7</th>\n",
       "      <td>cat_prod_cnt_Kitchen_Clean</td>\n",
       "      <td>0.108</td>\n",
       "      <td>0.000</td>\n",
       "      <td>13.159</td>\n",
       "    </tr>\n",
       "    <tr>\n",
       "      <th>8</th>\n",
       "      <td>Products_with_discount</td>\n",
       "      <td>-0.151</td>\n",
       "      <td>0.000</td>\n",
       "      <td>23.849</td>\n",
       "    </tr>\n",
       "    <tr>\n",
       "      <th>9</th>\n",
       "      <td>cat_prod_cnt_Beauty</td>\n",
       "      <td>0.062</td>\n",
       "      <td>0.000</td>\n",
       "      <td>10.042</td>\n",
       "    </tr>\n",
       "    <tr>\n",
       "      <th>10</th>\n",
       "      <td>No_Distinct_categories</td>\n",
       "      <td>0.128</td>\n",
       "      <td>0.000</td>\n",
       "      <td>1.984</td>\n",
       "    </tr>\n",
       "    <tr>\n",
       "      <th>11</th>\n",
       "      <td>qty</td>\n",
       "      <td>0.358</td>\n",
       "      <td>0.000</td>\n",
       "      <td>104.906</td>\n",
       "    </tr>\n",
       "    <tr>\n",
       "      <th>12</th>\n",
       "      <td>cat_prod_cnt_Home</td>\n",
       "      <td>0.028</td>\n",
       "      <td>0.006</td>\n",
       "      <td>2.289</td>\n",
       "    </tr>\n",
       "    <tr>\n",
       "      <th>13</th>\n",
       "      <td>cat_prod_cnt_HH_Electrical</td>\n",
       "      <td>0.060</td>\n",
       "      <td>0.000</td>\n",
       "      <td>1.091</td>\n",
       "    </tr>\n",
       "    <tr>\n",
       "      <th>14</th>\n",
       "      <td>no_baskets_weekend</td>\n",
       "      <td>0.167</td>\n",
       "      <td>0.000</td>\n",
       "      <td>2.208</td>\n",
       "    </tr>\n",
       "    <tr>\n",
       "      <th>15</th>\n",
       "      <td>cat_pen_Kitchen_Clean</td>\n",
       "      <td>-0.079</td>\n",
       "      <td>0.000</td>\n",
       "      <td>0.310</td>\n",
       "    </tr>\n",
       "    <tr>\n",
       "      <th>16</th>\n",
       "      <td>cat_pen_Drinks</td>\n",
       "      <td>-0.032</td>\n",
       "      <td>0.001</td>\n",
       "      <td>0.300</td>\n",
       "    </tr>\n",
       "    <tr>\n",
       "      <th>17</th>\n",
       "      <td>cat_pen_Beauty</td>\n",
       "      <td>-0.055</td>\n",
       "      <td>0.000</td>\n",
       "      <td>0.297</td>\n",
       "    </tr>\n",
       "    <tr>\n",
       "      <th>18</th>\n",
       "      <td>cat_pen_Food</td>\n",
       "      <td>-0.057</td>\n",
       "      <td>0.000</td>\n",
       "      <td>0.308</td>\n",
       "    </tr>\n",
       "    <tr>\n",
       "      <th>19</th>\n",
       "      <td>cat_pen_Home</td>\n",
       "      <td>-0.027</td>\n",
       "      <td>0.006</td>\n",
       "      <td>0.152</td>\n",
       "    </tr>\n",
       "    <tr>\n",
       "      <th>20</th>\n",
       "      <td>cat_pen_Mother_Child</td>\n",
       "      <td>0.033</td>\n",
       "      <td>0.001</td>\n",
       "      <td>0.213</td>\n",
       "    </tr>\n",
       "    <tr>\n",
       "      <th>21</th>\n",
       "      <td>cat_prod_cnt_Mobiles</td>\n",
       "      <td>0.034</td>\n",
       "      <td>0.004</td>\n",
       "      <td>0.249</td>\n",
       "    </tr>\n",
       "    <tr>\n",
       "      <th>22</th>\n",
       "      <td>cat_pen_Mobiles</td>\n",
       "      <td>0.089</td>\n",
       "      <td>0.000</td>\n",
       "      <td>0.047</td>\n",
       "    </tr>\n",
       "  </tbody>\n",
       "</table>\n",
       "</div>"
      ],
      "text/plain": [
       "                         index  beta_coef_standardize  P values     Std\n",
       "0                        const                  0.000     1.000     NaN\n",
       "1             no_baskets_Promo                 -0.046     0.021   3.590\n",
       "2                     discount                  0.124     0.000  74.992\n",
       "3    cat_prod_cnt_Mother_Child                  0.087     0.000   4.650\n",
       "4           no_baskets_weekday                  0.297     0.000   4.267\n",
       "5               no_Promo_prods                  0.033     0.018  11.067\n",
       "6          cat_prod_cnt_Drinks                 -0.046     0.001   8.715\n",
       "7   cat_prod_cnt_Kitchen_Clean                  0.108     0.000  13.159\n",
       "8       Products_with_discount                 -0.151     0.000  23.849\n",
       "9          cat_prod_cnt_Beauty                  0.062     0.000  10.042\n",
       "10      No_Distinct_categories                  0.128     0.000   1.984\n",
       "11                         qty                  0.358     0.000 104.906\n",
       "12           cat_prod_cnt_Home                  0.028     0.006   2.289\n",
       "13  cat_prod_cnt_HH_Electrical                  0.060     0.000   1.091\n",
       "14          no_baskets_weekend                  0.167     0.000   2.208\n",
       "15       cat_pen_Kitchen_Clean                 -0.079     0.000   0.310\n",
       "16              cat_pen_Drinks                 -0.032     0.001   0.300\n",
       "17              cat_pen_Beauty                 -0.055     0.000   0.297\n",
       "18                cat_pen_Food                 -0.057     0.000   0.308\n",
       "19                cat_pen_Home                 -0.027     0.006   0.152\n",
       "20        cat_pen_Mother_Child                  0.033     0.001   0.213\n",
       "21        cat_prod_cnt_Mobiles                  0.034     0.004   0.249\n",
       "22             cat_pen_Mobiles                  0.089     0.000   0.047"
      ]
     },
     "execution_count": 124,
     "metadata": {},
     "output_type": "execute_result"
    }
   ],
   "source": [
    "all_pred_df"
   ]
  },
  {
   "cell_type": "code",
   "execution_count": 126,
   "metadata": {},
   "outputs": [
    {
     "data": {
      "text/html": [
       "<div>\n",
       "<style scoped>\n",
       "    .dataframe tbody tr th:only-of-type {\n",
       "        vertical-align: middle;\n",
       "    }\n",
       "\n",
       "    .dataframe tbody tr th {\n",
       "        vertical-align: top;\n",
       "    }\n",
       "\n",
       "    .dataframe thead th {\n",
       "        text-align: right;\n",
       "    }\n",
       "</style>\n",
       "<table border=\"1\" class=\"dataframe\">\n",
       "  <thead>\n",
       "    <tr style=\"text-align: right;\">\n",
       "      <th></th>\n",
       "      <th>index</th>\n",
       "      <th>beta_coef_standardize</th>\n",
       "      <th>P values</th>\n",
       "      <th>Std</th>\n",
       "      <th>sale_amount_std</th>\n",
       "      <th>Rise/Drop_in_sales</th>\n",
       "    </tr>\n",
       "  </thead>\n",
       "  <tbody>\n",
       "    <tr>\n",
       "      <th>0</th>\n",
       "      <td>const</td>\n",
       "      <td>0.000</td>\n",
       "      <td>1.000</td>\n",
       "      <td>NaN</td>\n",
       "      <td>1120.041</td>\n",
       "      <td>0.000</td>\n",
       "    </tr>\n",
       "    <tr>\n",
       "      <th>1</th>\n",
       "      <td>no_baskets_Promo</td>\n",
       "      <td>-0.046</td>\n",
       "      <td>0.021</td>\n",
       "      <td>3.590</td>\n",
       "      <td>1120.041</td>\n",
       "      <td>-51.121</td>\n",
       "    </tr>\n",
       "    <tr>\n",
       "      <th>2</th>\n",
       "      <td>discount</td>\n",
       "      <td>0.124</td>\n",
       "      <td>0.000</td>\n",
       "      <td>74.992</td>\n",
       "      <td>1120.041</td>\n",
       "      <td>138.689</td>\n",
       "    </tr>\n",
       "    <tr>\n",
       "      <th>3</th>\n",
       "      <td>cat_prod_cnt_Mother_Child</td>\n",
       "      <td>0.087</td>\n",
       "      <td>0.000</td>\n",
       "      <td>4.650</td>\n",
       "      <td>1120.041</td>\n",
       "      <td>97.354</td>\n",
       "    </tr>\n",
       "    <tr>\n",
       "      <th>4</th>\n",
       "      <td>no_baskets_weekday</td>\n",
       "      <td>0.297</td>\n",
       "      <td>0.000</td>\n",
       "      <td>4.267</td>\n",
       "      <td>1120.041</td>\n",
       "      <td>332.800</td>\n",
       "    </tr>\n",
       "    <tr>\n",
       "      <th>5</th>\n",
       "      <td>no_Promo_prods</td>\n",
       "      <td>0.033</td>\n",
       "      <td>0.018</td>\n",
       "      <td>11.067</td>\n",
       "      <td>1120.041</td>\n",
       "      <td>37.374</td>\n",
       "    </tr>\n",
       "    <tr>\n",
       "      <th>6</th>\n",
       "      <td>cat_prod_cnt_Drinks</td>\n",
       "      <td>-0.046</td>\n",
       "      <td>0.001</td>\n",
       "      <td>8.715</td>\n",
       "      <td>1120.041</td>\n",
       "      <td>-51.824</td>\n",
       "    </tr>\n",
       "    <tr>\n",
       "      <th>7</th>\n",
       "      <td>cat_prod_cnt_Kitchen_Clean</td>\n",
       "      <td>0.108</td>\n",
       "      <td>0.000</td>\n",
       "      <td>13.159</td>\n",
       "      <td>1120.041</td>\n",
       "      <td>120.821</td>\n",
       "    </tr>\n",
       "    <tr>\n",
       "      <th>8</th>\n",
       "      <td>Products_with_discount</td>\n",
       "      <td>-0.151</td>\n",
       "      <td>0.000</td>\n",
       "      <td>23.849</td>\n",
       "      <td>1120.041</td>\n",
       "      <td>-168.888</td>\n",
       "    </tr>\n",
       "    <tr>\n",
       "      <th>9</th>\n",
       "      <td>cat_prod_cnt_Beauty</td>\n",
       "      <td>0.062</td>\n",
       "      <td>0.000</td>\n",
       "      <td>10.042</td>\n",
       "      <td>1120.041</td>\n",
       "      <td>69.283</td>\n",
       "    </tr>\n",
       "    <tr>\n",
       "      <th>10</th>\n",
       "      <td>No_Distinct_categories</td>\n",
       "      <td>0.128</td>\n",
       "      <td>0.000</td>\n",
       "      <td>1.984</td>\n",
       "      <td>1120.041</td>\n",
       "      <td>143.450</td>\n",
       "    </tr>\n",
       "    <tr>\n",
       "      <th>11</th>\n",
       "      <td>qty</td>\n",
       "      <td>0.358</td>\n",
       "      <td>0.000</td>\n",
       "      <td>104.906</td>\n",
       "      <td>1120.041</td>\n",
       "      <td>401.530</td>\n",
       "    </tr>\n",
       "    <tr>\n",
       "      <th>12</th>\n",
       "      <td>cat_prod_cnt_Home</td>\n",
       "      <td>0.028</td>\n",
       "      <td>0.006</td>\n",
       "      <td>2.289</td>\n",
       "      <td>1120.041</td>\n",
       "      <td>31.257</td>\n",
       "    </tr>\n",
       "    <tr>\n",
       "      <th>13</th>\n",
       "      <td>cat_prod_cnt_HH_Electrical</td>\n",
       "      <td>0.060</td>\n",
       "      <td>0.000</td>\n",
       "      <td>1.091</td>\n",
       "      <td>1120.041</td>\n",
       "      <td>67.280</td>\n",
       "    </tr>\n",
       "    <tr>\n",
       "      <th>14</th>\n",
       "      <td>no_baskets_weekend</td>\n",
       "      <td>0.167</td>\n",
       "      <td>0.000</td>\n",
       "      <td>2.208</td>\n",
       "      <td>1120.041</td>\n",
       "      <td>187.268</td>\n",
       "    </tr>\n",
       "    <tr>\n",
       "      <th>15</th>\n",
       "      <td>cat_pen_Kitchen_Clean</td>\n",
       "      <td>-0.079</td>\n",
       "      <td>0.000</td>\n",
       "      <td>0.310</td>\n",
       "      <td>1120.041</td>\n",
       "      <td>-88.172</td>\n",
       "    </tr>\n",
       "    <tr>\n",
       "      <th>16</th>\n",
       "      <td>cat_pen_Drinks</td>\n",
       "      <td>-0.032</td>\n",
       "      <td>0.001</td>\n",
       "      <td>0.300</td>\n",
       "      <td>1120.041</td>\n",
       "      <td>-35.481</td>\n",
       "    </tr>\n",
       "    <tr>\n",
       "      <th>17</th>\n",
       "      <td>cat_pen_Beauty</td>\n",
       "      <td>-0.055</td>\n",
       "      <td>0.000</td>\n",
       "      <td>0.297</td>\n",
       "      <td>1120.041</td>\n",
       "      <td>-61.055</td>\n",
       "    </tr>\n",
       "    <tr>\n",
       "      <th>18</th>\n",
       "      <td>cat_pen_Food</td>\n",
       "      <td>-0.057</td>\n",
       "      <td>0.000</td>\n",
       "      <td>0.308</td>\n",
       "      <td>1120.041</td>\n",
       "      <td>-64.357</td>\n",
       "    </tr>\n",
       "    <tr>\n",
       "      <th>19</th>\n",
       "      <td>cat_pen_Home</td>\n",
       "      <td>-0.027</td>\n",
       "      <td>0.006</td>\n",
       "      <td>0.152</td>\n",
       "      <td>1120.041</td>\n",
       "      <td>-29.818</td>\n",
       "    </tr>\n",
       "    <tr>\n",
       "      <th>20</th>\n",
       "      <td>cat_pen_Mother_Child</td>\n",
       "      <td>0.033</td>\n",
       "      <td>0.001</td>\n",
       "      <td>0.213</td>\n",
       "      <td>1120.041</td>\n",
       "      <td>36.855</td>\n",
       "    </tr>\n",
       "    <tr>\n",
       "      <th>21</th>\n",
       "      <td>cat_prod_cnt_Mobiles</td>\n",
       "      <td>0.034</td>\n",
       "      <td>0.004</td>\n",
       "      <td>0.249</td>\n",
       "      <td>1120.041</td>\n",
       "      <td>38.056</td>\n",
       "    </tr>\n",
       "    <tr>\n",
       "      <th>22</th>\n",
       "      <td>cat_pen_Mobiles</td>\n",
       "      <td>0.089</td>\n",
       "      <td>0.000</td>\n",
       "      <td>0.047</td>\n",
       "      <td>1120.041</td>\n",
       "      <td>99.483</td>\n",
       "    </tr>\n",
       "  </tbody>\n",
       "</table>\n",
       "</div>"
      ],
      "text/plain": [
       "                         index  beta_coef_standardize  P values     Std  \\\n",
       "0                        const                  0.000     1.000     NaN   \n",
       "1             no_baskets_Promo                 -0.046     0.021   3.590   \n",
       "2                     discount                  0.124     0.000  74.992   \n",
       "3    cat_prod_cnt_Mother_Child                  0.087     0.000   4.650   \n",
       "4           no_baskets_weekday                  0.297     0.000   4.267   \n",
       "5               no_Promo_prods                  0.033     0.018  11.067   \n",
       "6          cat_prod_cnt_Drinks                 -0.046     0.001   8.715   \n",
       "7   cat_prod_cnt_Kitchen_Clean                  0.108     0.000  13.159   \n",
       "8       Products_with_discount                 -0.151     0.000  23.849   \n",
       "9          cat_prod_cnt_Beauty                  0.062     0.000  10.042   \n",
       "10      No_Distinct_categories                  0.128     0.000   1.984   \n",
       "11                         qty                  0.358     0.000 104.906   \n",
       "12           cat_prod_cnt_Home                  0.028     0.006   2.289   \n",
       "13  cat_prod_cnt_HH_Electrical                  0.060     0.000   1.091   \n",
       "14          no_baskets_weekend                  0.167     0.000   2.208   \n",
       "15       cat_pen_Kitchen_Clean                 -0.079     0.000   0.310   \n",
       "16              cat_pen_Drinks                 -0.032     0.001   0.300   \n",
       "17              cat_pen_Beauty                 -0.055     0.000   0.297   \n",
       "18                cat_pen_Food                 -0.057     0.000   0.308   \n",
       "19                cat_pen_Home                 -0.027     0.006   0.152   \n",
       "20        cat_pen_Mother_Child                  0.033     0.001   0.213   \n",
       "21        cat_prod_cnt_Mobiles                  0.034     0.004   0.249   \n",
       "22             cat_pen_Mobiles                  0.089     0.000   0.047   \n",
       "\n",
       "    sale_amount_std  Rise/Drop_in_sales  \n",
       "0          1120.041               0.000  \n",
       "1          1120.041             -51.121  \n",
       "2          1120.041             138.689  \n",
       "3          1120.041              97.354  \n",
       "4          1120.041             332.800  \n",
       "5          1120.041              37.374  \n",
       "6          1120.041             -51.824  \n",
       "7          1120.041             120.821  \n",
       "8          1120.041            -168.888  \n",
       "9          1120.041              69.283  \n",
       "10         1120.041             143.450  \n",
       "11         1120.041             401.530  \n",
       "12         1120.041              31.257  \n",
       "13         1120.041              67.280  \n",
       "14         1120.041             187.268  \n",
       "15         1120.041             -88.172  \n",
       "16         1120.041             -35.481  \n",
       "17         1120.041             -61.055  \n",
       "18         1120.041             -64.357  \n",
       "19         1120.041             -29.818  \n",
       "20         1120.041              36.855  \n",
       "21         1120.041              38.056  \n",
       "22         1120.041              99.483  "
      ]
     },
     "execution_count": 126,
     "metadata": {},
     "output_type": "execute_result"
    }
   ],
   "source": [
    "all_pred_df['sale_amount_std']=np.std(y_train)\n",
    "all_pred_df['Rise/Drop_in_sales']=all_pred_df['beta_coef_standardize']* all_pred_df['sale_amount_std']\n",
    "all_pred_df"
   ]
  },
  {
   "cell_type": "markdown",
   "metadata": {},
   "source": [
    "## Conclusions & Recommendations:\n",
    "1. Among all the product category 'Mother_child','Kitchen_Clean','Beauty' are the top three category which are driving the sales more than the rest of the categories.\n",
    " \n",
    "2. no_baskets_Promo, number of days a customer visists and make purchase on promoted products, has negative beta coefficient indicating the promoted products are unable to drive sales i.e driving loss in sales. It indicates the need to improve marketing strategies, need to do deeper analysis on what to promote and what not to promote.\n",
    "3. The sales can be expected to rise by 143 if a customer makes purchase from 2 distinct categories.\n",
    "\n",
    "Using these conclusions and the all_pred_df dataframe various other business decisions can be made."
   ]
  },
  {
   "cell_type": "code",
   "execution_count": null,
   "metadata": {},
   "outputs": [],
   "source": []
  }
 ],
 "metadata": {
  "kernelspec": {
   "display_name": "Python 3",
   "language": "python",
   "name": "python3"
  },
  "language_info": {
   "codemirror_mode": {
    "name": "ipython",
    "version": 3
   },
   "file_extension": ".py",
   "mimetype": "text/x-python",
   "name": "python",
   "nbconvert_exporter": "python",
   "pygments_lexer": "ipython3",
   "version": "3.11.2"
  }
 },
 "nbformat": 4,
 "nbformat_minor": 2
}
